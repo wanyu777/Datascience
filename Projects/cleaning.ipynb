{
 "cells": [
  {
   "cell_type": "code",
   "execution_count": 1,
   "id": "1e53605d",
   "metadata": {},
   "outputs": [],
   "source": [
    "import numpy as np\n",
    "import pandas as pd\n",
    "import matplotlib.pyplot as plt\n",
    "import seaborn as sns"
   ]
  },
  {
   "cell_type": "code",
   "execution_count": 2,
   "id": "76d0f0fb",
   "metadata": {},
   "outputs": [],
   "source": [
    "df = pd.read_csv('cleaning.csv')"
   ]
  },
  {
   "cell_type": "code",
   "execution_count": 7,
   "id": "04de166a",
   "metadata": {},
   "outputs": [
    {
     "data": {
      "text/html": [
       "<div>\n",
       "<style scoped>\n",
       "    .dataframe tbody tr th:only-of-type {\n",
       "        vertical-align: middle;\n",
       "    }\n",
       "\n",
       "    .dataframe tbody tr th {\n",
       "        vertical-align: top;\n",
       "    }\n",
       "\n",
       "    .dataframe thead th {\n",
       "        text-align: right;\n",
       "    }\n",
       "</style>\n",
       "<table border=\"1\" class=\"dataframe\">\n",
       "  <thead>\n",
       "    <tr style=\"text-align: right;\">\n",
       "      <th></th>\n",
       "      <th>Date</th>\n",
       "      <th>Client</th>\n",
       "      <th>Estimate</th>\n",
       "      <th>Total</th>\n",
       "      <th>Paid</th>\n",
       "      <th>Unnamed: 5</th>\n",
       "      <th>Unnamed: 6</th>\n",
       "      <th>Unnamed: 7</th>\n",
       "      <th>Unnamed: 8</th>\n",
       "      <th>Unnamed: 9</th>\n",
       "      <th>Unnamed: 10</th>\n",
       "      <th>Unnamed: 11</th>\n",
       "      <th>Unnamed: 12</th>\n",
       "      <th>Unnamed: 13</th>\n",
       "      <th>Unnamed: 14</th>\n",
       "      <th>Unnamed: 15</th>\n",
       "      <th>Unnamed: 16</th>\n",
       "    </tr>\n",
       "  </thead>\n",
       "  <tbody>\n",
       "    <tr>\n",
       "      <th>0</th>\n",
       "      <td>01/01/2014</td>\n",
       "      <td>Valando</td>\n",
       "      <td>£2,252.00</td>\n",
       "      <td>£2,139.40</td>\n",
       "      <td>Paid</td>\n",
       "      <td>NaN</td>\n",
       "      <td>NaN</td>\n",
       "      <td>NaN</td>\n",
       "      <td>NaN</td>\n",
       "      <td>NaN</td>\n",
       "      <td>NaN</td>\n",
       "      <td>NaN</td>\n",
       "      <td>NaN</td>\n",
       "      <td>NaN</td>\n",
       "      <td>NaN</td>\n",
       "      <td>95</td>\n",
       "      <td>0.95</td>\n",
       "    </tr>\n",
       "    <tr>\n",
       "      <th>1</th>\n",
       "      <td>01/02/2014</td>\n",
       "      <td>Livaca</td>\n",
       "      <td>£2,512.00</td>\n",
       "      <td>£3,215.36</td>\n",
       "      <td>Paid</td>\n",
       "      <td>NaN</td>\n",
       "      <td>NaN</td>\n",
       "      <td>NaN</td>\n",
       "      <td>NaN</td>\n",
       "      <td>NaN</td>\n",
       "      <td>NaN</td>\n",
       "      <td>NaN</td>\n",
       "      <td>NaN</td>\n",
       "      <td>NaN</td>\n",
       "      <td>NaN</td>\n",
       "      <td>128</td>\n",
       "      <td>1.28</td>\n",
       "    </tr>\n",
       "    <tr>\n",
       "      <th>2</th>\n",
       "      <td>01/06/2014</td>\n",
       "      <td>Skodour</td>\n",
       "      <td>£2,551.00</td>\n",
       "      <td>£3,290.79</td>\n",
       "      <td>Paid</td>\n",
       "      <td>NaN</td>\n",
       "      <td>NaN</td>\n",
       "      <td>NaN</td>\n",
       "      <td>NaN</td>\n",
       "      <td>NaN</td>\n",
       "      <td>NaN</td>\n",
       "      <td>NaN</td>\n",
       "      <td>NaN</td>\n",
       "      <td>NaN</td>\n",
       "      <td>NaN</td>\n",
       "      <td>129</td>\n",
       "      <td>1.29</td>\n",
       "    </tr>\n",
       "    <tr>\n",
       "      <th>3</th>\n",
       "      <td>1/15/2014</td>\n",
       "      <td>Symteco</td>\n",
       "      <td>£905.00</td>\n",
       "      <td>£868.80</td>\n",
       "      <td>Paid</td>\n",
       "      <td>NaN</td>\n",
       "      <td>NaN</td>\n",
       "      <td>NaN</td>\n",
       "      <td>NaN</td>\n",
       "      <td>NaN</td>\n",
       "      <td>NaN</td>\n",
       "      <td>NaN</td>\n",
       "      <td>NaN</td>\n",
       "      <td>NaN</td>\n",
       "      <td>NaN</td>\n",
       "      <td>96</td>\n",
       "      <td>0.96</td>\n",
       "    </tr>\n",
       "    <tr>\n",
       "      <th>4</th>\n",
       "      <td>1/28/2014</td>\n",
       "      <td>Eco Blvd</td>\n",
       "      <td>£677.00</td>\n",
       "      <td>£636.38</td>\n",
       "      <td>Paid</td>\n",
       "      <td>NaN</td>\n",
       "      <td>NaN</td>\n",
       "      <td>NaN</td>\n",
       "      <td>NaN</td>\n",
       "      <td>NaN</td>\n",
       "      <td>NaN</td>\n",
       "      <td>NaN</td>\n",
       "      <td>NaN</td>\n",
       "      <td>NaN</td>\n",
       "      <td>NaN</td>\n",
       "      <td>94</td>\n",
       "      <td>0.94</td>\n",
       "    </tr>\n",
       "  </tbody>\n",
       "</table>\n",
       "</div>"
      ],
      "text/plain": [
       "         Date    Client   Estimate      Total  Paid  Unnamed: 5  Unnamed: 6  \\\n",
       "0  01/01/2014   Valando  £2,252.00  £2,139.40  Paid         NaN         NaN   \n",
       "1  01/02/2014    Livaca  £2,512.00  £3,215.36  Paid         NaN         NaN   \n",
       "2  01/06/2014   Skodour  £2,551.00  £3,290.79  Paid         NaN         NaN   \n",
       "3   1/15/2014   Symteco    £905.00    £868.80  Paid         NaN         NaN   \n",
       "4   1/28/2014  Eco Blvd    £677.00    £636.38  Paid         NaN         NaN   \n",
       "\n",
       "   Unnamed: 7  Unnamed: 8  Unnamed: 9  Unnamed: 10  Unnamed: 11  Unnamed: 12  \\\n",
       "0         NaN         NaN         NaN          NaN          NaN          NaN   \n",
       "1         NaN         NaN         NaN          NaN          NaN          NaN   \n",
       "2         NaN         NaN         NaN          NaN          NaN          NaN   \n",
       "3         NaN         NaN         NaN          NaN          NaN          NaN   \n",
       "4         NaN         NaN         NaN          NaN          NaN          NaN   \n",
       "\n",
       "   Unnamed: 13  Unnamed: 14  Unnamed: 15  Unnamed: 16  \n",
       "0          NaN          NaN           95         0.95  \n",
       "1          NaN          NaN          128         1.28  \n",
       "2          NaN          NaN          129         1.29  \n",
       "3          NaN          NaN           96         0.96  \n",
       "4          NaN          NaN           94         0.94  "
      ]
     },
     "execution_count": 7,
     "metadata": {},
     "output_type": "execute_result"
    }
   ],
   "source": [
    "df.head(5)"
   ]
  },
  {
   "cell_type": "code",
   "execution_count": 8,
   "id": "4be47f4b",
   "metadata": {},
   "outputs": [
    {
     "name": "stdout",
     "output_type": "stream",
     "text": [
      "<class 'pandas.core.frame.DataFrame'>\n",
      "RangeIndex: 21 entries, 0 to 20\n",
      "Data columns (total 17 columns):\n",
      " #   Column       Non-Null Count  Dtype  \n",
      "---  ------       --------------  -----  \n",
      " 0   Date         21 non-null     object \n",
      " 1   Client       21 non-null     object \n",
      " 2   Estimate     21 non-null     object \n",
      " 3   Total        21 non-null     object \n",
      " 4   Paid         21 non-null     object \n",
      " 5   Unnamed: 5   0 non-null      float64\n",
      " 6   Unnamed: 6   0 non-null      float64\n",
      " 7   Unnamed: 7   0 non-null      float64\n",
      " 8   Unnamed: 8   0 non-null      float64\n",
      " 9   Unnamed: 9   0 non-null      float64\n",
      " 10  Unnamed: 10  0 non-null      float64\n",
      " 11  Unnamed: 11  0 non-null      float64\n",
      " 12  Unnamed: 12  0 non-null      float64\n",
      " 13  Unnamed: 13  0 non-null      float64\n",
      " 14  Unnamed: 14  0 non-null      float64\n",
      " 15  Unnamed: 15  21 non-null     int64  \n",
      " 16  Unnamed: 16  21 non-null     float64\n",
      "dtypes: float64(11), int64(1), object(5)\n",
      "memory usage: 2.9+ KB\n"
     ]
    }
   ],
   "source": [
    "df.info()"
   ]
  },
  {
   "cell_type": "code",
   "execution_count": 17,
   "id": "d0bdcdb1",
   "metadata": {},
   "outputs": [
    {
     "data": {
      "text/plain": [
       "Date           False\n",
       "Client         False\n",
       "Estimate       False\n",
       "Total          False\n",
       "Paid           False\n",
       "Unnamed: 5      True\n",
       "Unnamed: 6      True\n",
       "Unnamed: 7      True\n",
       "Unnamed: 8      True\n",
       "Unnamed: 9      True\n",
       "Unnamed: 10     True\n",
       "Unnamed: 11     True\n",
       "Unnamed: 12     True\n",
       "Unnamed: 13     True\n",
       "Unnamed: 14     True\n",
       "Unnamed: 15    False\n",
       "Unnamed: 16    False\n",
       "dtype: bool"
      ]
     },
     "execution_count": 17,
     "metadata": {},
     "output_type": "execute_result"
    }
   ],
   "source": [
    "df.isna().any()"
   ]
  },
  {
   "cell_type": "markdown",
   "id": "b16baa1a",
   "metadata": {},
   "source": [
    "### Cleaning the data"
   ]
  },
  {
   "cell_type": "code",
   "execution_count": 5,
   "id": "b0217135",
   "metadata": {},
   "outputs": [],
   "source": [
    "# Dropping unnamed columns with no data\n",
    "\n",
    "df_copy = df.drop(columns=['Unnamed: 5', 'Unnamed: 6', 'Unnamed: 7', 'Unnamed: 8', 'Unnamed: 9', 'Unnamed: 10', 'Unnamed: 11', 'Unnamed: 12', 'Unnamed: 13', 'Unnamed: 14'], axis=1)"
   ]
  },
  {
   "cell_type": "code",
   "execution_count": 20,
   "id": "d220ab31",
   "metadata": {},
   "outputs": [
    {
     "data": {
      "text/html": [
       "<div>\n",
       "<style scoped>\n",
       "    .dataframe tbody tr th:only-of-type {\n",
       "        vertical-align: middle;\n",
       "    }\n",
       "\n",
       "    .dataframe tbody tr th {\n",
       "        vertical-align: top;\n",
       "    }\n",
       "\n",
       "    .dataframe thead th {\n",
       "        text-align: right;\n",
       "    }\n",
       "</style>\n",
       "<table border=\"1\" class=\"dataframe\">\n",
       "  <thead>\n",
       "    <tr style=\"text-align: right;\">\n",
       "      <th></th>\n",
       "      <th>Date</th>\n",
       "      <th>Client</th>\n",
       "      <th>Estimate</th>\n",
       "      <th>Total</th>\n",
       "      <th>Paid</th>\n",
       "      <th>Unnamed: 15</th>\n",
       "      <th>Unnamed: 16</th>\n",
       "    </tr>\n",
       "  </thead>\n",
       "  <tbody>\n",
       "    <tr>\n",
       "      <th>0</th>\n",
       "      <td>01/01/2014</td>\n",
       "      <td>Valando</td>\n",
       "      <td>£2,252.00</td>\n",
       "      <td>£2,139.40</td>\n",
       "      <td>Paid</td>\n",
       "      <td>95</td>\n",
       "      <td>0.95</td>\n",
       "    </tr>\n",
       "    <tr>\n",
       "      <th>1</th>\n",
       "      <td>01/02/2014</td>\n",
       "      <td>Livaca</td>\n",
       "      <td>£2,512.00</td>\n",
       "      <td>£3,215.36</td>\n",
       "      <td>Paid</td>\n",
       "      <td>128</td>\n",
       "      <td>1.28</td>\n",
       "    </tr>\n",
       "    <tr>\n",
       "      <th>2</th>\n",
       "      <td>01/06/2014</td>\n",
       "      <td>Skodour</td>\n",
       "      <td>£2,551.00</td>\n",
       "      <td>£3,290.79</td>\n",
       "      <td>Paid</td>\n",
       "      <td>129</td>\n",
       "      <td>1.29</td>\n",
       "    </tr>\n",
       "    <tr>\n",
       "      <th>3</th>\n",
       "      <td>1/15/2014</td>\n",
       "      <td>Symteco</td>\n",
       "      <td>£905.00</td>\n",
       "      <td>£868.80</td>\n",
       "      <td>Paid</td>\n",
       "      <td>96</td>\n",
       "      <td>0.96</td>\n",
       "    </tr>\n",
       "    <tr>\n",
       "      <th>4</th>\n",
       "      <td>1/28/2014</td>\n",
       "      <td>Eco Blvd</td>\n",
       "      <td>£677.00</td>\n",
       "      <td>£636.38</td>\n",
       "      <td>Paid</td>\n",
       "      <td>94</td>\n",
       "      <td>0.94</td>\n",
       "    </tr>\n",
       "  </tbody>\n",
       "</table>\n",
       "</div>"
      ],
      "text/plain": [
       "         Date    Client   Estimate      Total  Paid  Unnamed: 15  Unnamed: 16\n",
       "0  01/01/2014   Valando  £2,252.00  £2,139.40  Paid           95         0.95\n",
       "1  01/02/2014    Livaca  £2,512.00  £3,215.36  Paid          128         1.28\n",
       "2  01/06/2014   Skodour  £2,551.00  £3,290.79  Paid          129         1.29\n",
       "3   1/15/2014   Symteco    £905.00    £868.80  Paid           96         0.96\n",
       "4   1/28/2014  Eco Blvd    £677.00    £636.38  Paid           94         0.94"
      ]
     },
     "execution_count": 20,
     "metadata": {},
     "output_type": "execute_result"
    }
   ],
   "source": [
    "df_copy.head(5)"
   ]
  },
  {
   "cell_type": "code",
   "execution_count": null,
   "id": "fdcc513f",
   "metadata": {},
   "outputs": [],
   "source": [
    "# Removing the pound and commas from the estimate column\n",
    "\n",
    "df_copy['Estimate'] = df_copy['Estimate'].str.replace('£', '').str.replace(',', '')"
   ]
  },
  {
   "cell_type": "code",
   "execution_count": null,
   "id": "11a36bc0",
   "metadata": {},
   "outputs": [],
   "source": [
    "# Removing the pound and commas from the total column\n",
    "\n",
    "df_copy['Total'] = df_copy['Total'].str.replace('£', '').str.replace(',', '')"
   ]
  },
  {
   "cell_type": "code",
   "execution_count": 37,
   "id": "a8f9ed14",
   "metadata": {},
   "outputs": [
    {
     "data": {
      "text/html": [
       "<div>\n",
       "<style scoped>\n",
       "    .dataframe tbody tr th:only-of-type {\n",
       "        vertical-align: middle;\n",
       "    }\n",
       "\n",
       "    .dataframe tbody tr th {\n",
       "        vertical-align: top;\n",
       "    }\n",
       "\n",
       "    .dataframe thead th {\n",
       "        text-align: right;\n",
       "    }\n",
       "</style>\n",
       "<table border=\"1\" class=\"dataframe\">\n",
       "  <thead>\n",
       "    <tr style=\"text-align: right;\">\n",
       "      <th></th>\n",
       "      <th>Date</th>\n",
       "      <th>Client</th>\n",
       "      <th>Estimate</th>\n",
       "      <th>Total</th>\n",
       "      <th>Paid</th>\n",
       "      <th>Unnamed: 15</th>\n",
       "      <th>Unnamed: 16</th>\n",
       "    </tr>\n",
       "  </thead>\n",
       "  <tbody>\n",
       "    <tr>\n",
       "      <th>0</th>\n",
       "      <td>01/01/2014</td>\n",
       "      <td>Valando</td>\n",
       "      <td>2252.00</td>\n",
       "      <td>2139.40</td>\n",
       "      <td>Paid</td>\n",
       "      <td>95</td>\n",
       "      <td>0.95</td>\n",
       "    </tr>\n",
       "    <tr>\n",
       "      <th>1</th>\n",
       "      <td>01/02/2014</td>\n",
       "      <td>Livaca</td>\n",
       "      <td>2512.00</td>\n",
       "      <td>3215.36</td>\n",
       "      <td>Paid</td>\n",
       "      <td>128</td>\n",
       "      <td>1.28</td>\n",
       "    </tr>\n",
       "    <tr>\n",
       "      <th>2</th>\n",
       "      <td>01/06/2014</td>\n",
       "      <td>Skodour</td>\n",
       "      <td>2551.00</td>\n",
       "      <td>3290.79</td>\n",
       "      <td>Paid</td>\n",
       "      <td>129</td>\n",
       "      <td>1.29</td>\n",
       "    </tr>\n",
       "    <tr>\n",
       "      <th>3</th>\n",
       "      <td>1/15/2014</td>\n",
       "      <td>Symteco</td>\n",
       "      <td>905.00</td>\n",
       "      <td>868.80</td>\n",
       "      <td>Paid</td>\n",
       "      <td>96</td>\n",
       "      <td>0.96</td>\n",
       "    </tr>\n",
       "    <tr>\n",
       "      <th>4</th>\n",
       "      <td>1/28/2014</td>\n",
       "      <td>Eco Blvd</td>\n",
       "      <td>677.00</td>\n",
       "      <td>636.38</td>\n",
       "      <td>Paid</td>\n",
       "      <td>94</td>\n",
       "      <td>0.94</td>\n",
       "    </tr>\n",
       "  </tbody>\n",
       "</table>\n",
       "</div>"
      ],
      "text/plain": [
       "         Date    Client Estimate    Total  Paid  Unnamed: 15  Unnamed: 16\n",
       "0  01/01/2014   Valando  2252.00  2139.40  Paid           95         0.95\n",
       "1  01/02/2014    Livaca  2512.00  3215.36  Paid          128         1.28\n",
       "2  01/06/2014   Skodour  2551.00  3290.79  Paid          129         1.29\n",
       "3   1/15/2014   Symteco   905.00   868.80  Paid           96         0.96\n",
       "4   1/28/2014  Eco Blvd   677.00   636.38  Paid           94         0.94"
      ]
     },
     "execution_count": 37,
     "metadata": {},
     "output_type": "execute_result"
    }
   ],
   "source": [
    "df_copy.head(5)"
   ]
  },
  {
   "cell_type": "code",
   "execution_count": null,
   "id": "db58ffb3",
   "metadata": {},
   "outputs": [],
   "source": [
    "# Changing the datatype of the estimate column to float\n",
    "\n",
    "df_copy['Estimate'] = df_copy['Estimate'].astype(float)"
   ]
  },
  {
   "cell_type": "code",
   "execution_count": 41,
   "id": "639099a4",
   "metadata": {},
   "outputs": [],
   "source": [
    "# Changing the datatype of the total column to float\n",
    "\n",
    "df_copy['Total'] = df_copy['Total'].astype(float)"
   ]
  },
  {
   "cell_type": "code",
   "execution_count": 42,
   "id": "a9ac9ee2",
   "metadata": {},
   "outputs": [
    {
     "name": "stdout",
     "output_type": "stream",
     "text": [
      "<class 'pandas.core.frame.DataFrame'>\n",
      "RangeIndex: 21 entries, 0 to 20\n",
      "Data columns (total 7 columns):\n",
      " #   Column       Non-Null Count  Dtype  \n",
      "---  ------       --------------  -----  \n",
      " 0   Date         21 non-null     object \n",
      " 1   Client       21 non-null     object \n",
      " 2   Estimate     21 non-null     float64\n",
      " 3   Total        21 non-null     float64\n",
      " 4   Paid         21 non-null     object \n",
      " 5   Unnamed: 15  21 non-null     int64  \n",
      " 6   Unnamed: 16  21 non-null     float64\n",
      "dtypes: float64(3), int64(1), object(3)\n",
      "memory usage: 1.3+ KB\n"
     ]
    }
   ],
   "source": [
    "df_copy.info()"
   ]
  },
  {
   "cell_type": "markdown",
   "id": "8ff4db86",
   "metadata": {},
   "source": [
    "##### Date column\n",
    "The date column type is object, we need to change this to integer by splitting and extracting the day, month and year to different columns"
   ]
  },
  {
   "cell_type": "code",
   "execution_count": null,
   "id": "391ea83b",
   "metadata": {},
   "outputs": [],
   "source": [
    "# Day column\n",
    "df_copy['Day'] = df_copy['Date'].str.split('/').str[1].astype(int)"
   ]
  },
  {
   "cell_type": "code",
   "execution_count": null,
   "id": "5f4a10a7",
   "metadata": {},
   "outputs": [],
   "source": [
    "# Month column\n",
    "df_copy['Month'] = df_copy['Date'].str.split('/').str[0].astype(int)"
   ]
  },
  {
   "cell_type": "code",
   "execution_count": null,
   "id": "c2f0fea4",
   "metadata": {},
   "outputs": [],
   "source": [
    "# Year column\n",
    "df_copy['Year'] = df_copy['Date'].str.split('/').str[2].astype(int)"
   ]
  },
  {
   "cell_type": "code",
   "execution_count": 56,
   "id": "95129b2d",
   "metadata": {},
   "outputs": [
    {
     "name": "stdout",
     "output_type": "stream",
     "text": [
      "<class 'pandas.core.frame.DataFrame'>\n",
      "RangeIndex: 21 entries, 0 to 20\n",
      "Data columns (total 10 columns):\n",
      " #   Column       Non-Null Count  Dtype  \n",
      "---  ------       --------------  -----  \n",
      " 0   Date         21 non-null     object \n",
      " 1   Client       21 non-null     object \n",
      " 2   Estimate     21 non-null     float64\n",
      " 3   Total        21 non-null     float64\n",
      " 4   Paid         21 non-null     object \n",
      " 5   Unnamed: 15  21 non-null     int64  \n",
      " 6   Unnamed: 16  21 non-null     float64\n",
      " 7   Day          21 non-null     int64  \n",
      " 8   Month        21 non-null     int64  \n",
      " 9   Year         21 non-null     int64  \n",
      "dtypes: float64(3), int64(4), object(3)\n",
      "memory usage: 1.8+ KB\n"
     ]
    }
   ],
   "source": [
    "df_copy.info()"
   ]
  },
  {
   "cell_type": "code",
   "execution_count": 57,
   "id": "34c587ef",
   "metadata": {},
   "outputs": [
    {
     "data": {
      "text/html": [
       "<div>\n",
       "<style scoped>\n",
       "    .dataframe tbody tr th:only-of-type {\n",
       "        vertical-align: middle;\n",
       "    }\n",
       "\n",
       "    .dataframe tbody tr th {\n",
       "        vertical-align: top;\n",
       "    }\n",
       "\n",
       "    .dataframe thead th {\n",
       "        text-align: right;\n",
       "    }\n",
       "</style>\n",
       "<table border=\"1\" class=\"dataframe\">\n",
       "  <thead>\n",
       "    <tr style=\"text-align: right;\">\n",
       "      <th></th>\n",
       "      <th>Date</th>\n",
       "      <th>Client</th>\n",
       "      <th>Estimate</th>\n",
       "      <th>Total</th>\n",
       "      <th>Paid</th>\n",
       "      <th>Unnamed: 15</th>\n",
       "      <th>Unnamed: 16</th>\n",
       "      <th>Day</th>\n",
       "      <th>Month</th>\n",
       "      <th>Year</th>\n",
       "    </tr>\n",
       "  </thead>\n",
       "  <tbody>\n",
       "    <tr>\n",
       "      <th>0</th>\n",
       "      <td>01/01/2014</td>\n",
       "      <td>Valando</td>\n",
       "      <td>2252.0</td>\n",
       "      <td>2139.40</td>\n",
       "      <td>Paid</td>\n",
       "      <td>95</td>\n",
       "      <td>0.95</td>\n",
       "      <td>1</td>\n",
       "      <td>1</td>\n",
       "      <td>2014</td>\n",
       "    </tr>\n",
       "    <tr>\n",
       "      <th>1</th>\n",
       "      <td>01/02/2014</td>\n",
       "      <td>Livaca</td>\n",
       "      <td>2512.0</td>\n",
       "      <td>3215.36</td>\n",
       "      <td>Paid</td>\n",
       "      <td>128</td>\n",
       "      <td>1.28</td>\n",
       "      <td>2</td>\n",
       "      <td>1</td>\n",
       "      <td>2014</td>\n",
       "    </tr>\n",
       "    <tr>\n",
       "      <th>2</th>\n",
       "      <td>01/06/2014</td>\n",
       "      <td>Skodour</td>\n",
       "      <td>2551.0</td>\n",
       "      <td>3290.79</td>\n",
       "      <td>Paid</td>\n",
       "      <td>129</td>\n",
       "      <td>1.29</td>\n",
       "      <td>6</td>\n",
       "      <td>1</td>\n",
       "      <td>2014</td>\n",
       "    </tr>\n",
       "    <tr>\n",
       "      <th>3</th>\n",
       "      <td>1/15/2014</td>\n",
       "      <td>Symteco</td>\n",
       "      <td>905.0</td>\n",
       "      <td>868.80</td>\n",
       "      <td>Paid</td>\n",
       "      <td>96</td>\n",
       "      <td>0.96</td>\n",
       "      <td>15</td>\n",
       "      <td>1</td>\n",
       "      <td>2014</td>\n",
       "    </tr>\n",
       "    <tr>\n",
       "      <th>4</th>\n",
       "      <td>1/28/2014</td>\n",
       "      <td>Eco Blvd</td>\n",
       "      <td>677.0</td>\n",
       "      <td>636.38</td>\n",
       "      <td>Paid</td>\n",
       "      <td>94</td>\n",
       "      <td>0.94</td>\n",
       "      <td>28</td>\n",
       "      <td>1</td>\n",
       "      <td>2014</td>\n",
       "    </tr>\n",
       "  </tbody>\n",
       "</table>\n",
       "</div>"
      ],
      "text/plain": [
       "         Date    Client  Estimate    Total  Paid  Unnamed: 15  Unnamed: 16  \\\n",
       "0  01/01/2014   Valando    2252.0  2139.40  Paid           95         0.95   \n",
       "1  01/02/2014    Livaca    2512.0  3215.36  Paid          128         1.28   \n",
       "2  01/06/2014   Skodour    2551.0  3290.79  Paid          129         1.29   \n",
       "3   1/15/2014   Symteco     905.0   868.80  Paid           96         0.96   \n",
       "4   1/28/2014  Eco Blvd     677.0   636.38  Paid           94         0.94   \n",
       "\n",
       "   Day  Month  Year  \n",
       "0    1      1  2014  \n",
       "1    2      1  2014  \n",
       "2    6      1  2014  \n",
       "3   15      1  2014  \n",
       "4   28      1  2014  "
      ]
     },
     "execution_count": 57,
     "metadata": {},
     "output_type": "execute_result"
    }
   ],
   "source": [
    "df_copy.head(5)"
   ]
  },
  {
   "cell_type": "code",
   "execution_count": null,
   "id": "424d6b5c",
   "metadata": {},
   "outputs": [],
   "source": [
    "# Removing th e Date object column and unnamed columns\n",
    "# df_copy1 = df_copy.drop(columns=['Date', 'Unnamed: 15', 'Unnamed: 16'], axis=1)"
   ]
  },
  {
   "cell_type": "code",
   "execution_count": 6,
   "id": "3afd8251",
   "metadata": {},
   "outputs": [
    {
     "data": {
      "text/html": [
       "<div>\n",
       "<style scoped>\n",
       "    .dataframe tbody tr th:only-of-type {\n",
       "        vertical-align: middle;\n",
       "    }\n",
       "\n",
       "    .dataframe tbody tr th {\n",
       "        vertical-align: top;\n",
       "    }\n",
       "\n",
       "    .dataframe thead th {\n",
       "        text-align: right;\n",
       "    }\n",
       "</style>\n",
       "<table border=\"1\" class=\"dataframe\">\n",
       "  <thead>\n",
       "    <tr style=\"text-align: right;\">\n",
       "      <th></th>\n",
       "      <th>Date</th>\n",
       "      <th>Client</th>\n",
       "      <th>Estimate</th>\n",
       "      <th>Total</th>\n",
       "      <th>Paid</th>\n",
       "      <th>Unnamed: 15</th>\n",
       "      <th>Unnamed: 16</th>\n",
       "    </tr>\n",
       "  </thead>\n",
       "  <tbody>\n",
       "    <tr>\n",
       "      <th>16</th>\n",
       "      <td>7/23/2014</td>\n",
       "      <td>Skodour</td>\n",
       "      <td>£1,075.00</td>\n",
       "      <td>£817.00</td>\n",
       "      <td>Unpaid</td>\n",
       "      <td>76</td>\n",
       "      <td>0.76</td>\n",
       "    </tr>\n",
       "    <tr>\n",
       "      <th>17</th>\n",
       "      <td>8/13/2014</td>\n",
       "      <td>Symteco</td>\n",
       "      <td>£704.00</td>\n",
       "      <td>£788.48</td>\n",
       "      <td>Unpaid</td>\n",
       "      <td>112</td>\n",
       "      <td>1.12</td>\n",
       "    </tr>\n",
       "    <tr>\n",
       "      <th>18</th>\n",
       "      <td>10/15/2014</td>\n",
       "      <td>Eco Blvd</td>\n",
       "      <td>£1,390.00</td>\n",
       "      <td>£1,640.20</td>\n",
       "      <td>Paid</td>\n",
       "      <td>118</td>\n",
       "      <td>1.18</td>\n",
       "    </tr>\n",
       "    <tr>\n",
       "      <th>19</th>\n",
       "      <td>10/24/2014</td>\n",
       "      <td>Energy Hint</td>\n",
       "      <td>£2,796.00</td>\n",
       "      <td>£2,851.92</td>\n",
       "      <td>Unpaid</td>\n",
       "      <td>102</td>\n",
       "      <td>1.02</td>\n",
       "    </tr>\n",
       "    <tr>\n",
       "      <th>20</th>\n",
       "      <td>11/18/2014</td>\n",
       "      <td>Skodour</td>\n",
       "      <td>£2,575.00</td>\n",
       "      <td>£2,446.25</td>\n",
       "      <td>Unpaid</td>\n",
       "      <td>95</td>\n",
       "      <td>0.95</td>\n",
       "    </tr>\n",
       "  </tbody>\n",
       "</table>\n",
       "</div>"
      ],
      "text/plain": [
       "          Date       Client   Estimate      Total    Paid  Unnamed: 15  \\\n",
       "16   7/23/2014      Skodour  £1,075.00    £817.00  Unpaid           76   \n",
       "17   8/13/2014      Symteco    £704.00    £788.48  Unpaid          112   \n",
       "18  10/15/2014     Eco Blvd  £1,390.00  £1,640.20    Paid          118   \n",
       "19  10/24/2014  Energy Hint  £2,796.00  £2,851.92  Unpaid          102   \n",
       "20  11/18/2014      Skodour  £2,575.00  £2,446.25  Unpaid           95   \n",
       "\n",
       "    Unnamed: 16  \n",
       "16         0.76  \n",
       "17         1.12  \n",
       "18         1.18  \n",
       "19         1.02  \n",
       "20         0.95  "
      ]
     },
     "execution_count": 6,
     "metadata": {},
     "output_type": "execute_result"
    }
   ],
   "source": [
    "df_copy.tail(5)"
   ]
  },
  {
   "cell_type": "markdown",
   "id": "a3bf9c54",
   "metadata": {},
   "source": [
    "### Visualisation\n",
    "Now that the data is clean, let's understand it by visualising"
   ]
  },
  {
   "cell_type": "code",
   "execution_count": 80,
   "id": "2e8c2cb7",
   "metadata": {},
   "outputs": [
    {
     "data": {
      "image/png": "[encoded data removed]",
      "text/plain": [
       "<Figure size 800x600 with 1 Axes>"
      ]
     },
     "metadata": {},
     "output_type": "display_data"
    }
   ],
   "source": [
    "plt.figure(figsize=(8,6))\n",
    "sns.barplot(x='Client', y='Total', color='purple', data=df_copy1)\n",
    "plt.xlabel('Clients')\n",
    "plt.ylabel('Amount')\n",
    "plt.title('Total amount per client')\n",
    "plt.show()"
   ]
  },
  {
   "cell_type": "code",
   "execution_count": 77,
   "id": "96b33a4e",
   "metadata": {},
   "outputs": [
    {
     "data": {
      "text/plain": [
       "Paid\n",
       "Paid      14\n",
       "Unpaid     7\n",
       "Name: count, dtype: int64"
      ]
     },
     "execution_count": 77,
     "metadata": {},
     "output_type": "execute_result"
    }
   ],
   "source": [
    "count = df_copy1['Paid'].value_counts()\n",
    "count"
   ]
  },
  {
   "cell_type": "code",
   "execution_count": null,
   "id": "a590ef7f",
   "metadata": {},
   "outputs": [
    {
     "data": {
      "image/png": "[encoded data removed]",
      "text/plain": [
       "<Figure size 640x480 with 1 Axes>"
      ]
     },
     "metadata": {},
     "output_type": "display_data"
    }
   ],
   "source": [
    "# Plotting paid clients vs unpaid clients\n",
    "\n",
    "sns.barplot(x=count.index, y=count.values, color='purple')\n",
    "plt.ylabel('Number of clients')\n",
    "plt.title('Paid and Unpaid clients')\n",
    "plt.show()\n"
   ]
  },
  {
   "cell_type": "markdown",
   "id": "4563e56f",
   "metadata": {},
   "source": [
    "From above we se that one third of the clients have not yet paid "
   ]
  },
  {
   "cell_type": "code",
   "execution_count": 85,
   "id": "99b44e9d",
   "metadata": {},
   "outputs": [
    {
     "data": {
      "text/plain": [
       "Month\n",
       "1     10150.73\n",
       "2      8907.65\n",
       "3      2457.60\n",
       "4      3211.43\n",
       "5      3150.53\n",
       "7      1285.12\n",
       "8       788.48\n",
       "10     4492.12\n",
       "11     2446.25\n",
       "Name: Total, dtype: float64"
      ]
     },
     "execution_count": 85,
     "metadata": {},
     "output_type": "execute_result"
    }
   ],
   "source": [
    "group = df_copy1.groupby('Month')['Total'].sum()\n",
    "group"
   ]
  },
  {
   "cell_type": "code",
   "execution_count": 83,
   "id": "a4376367",
   "metadata": {},
   "outputs": [
    {
     "data": {
      "image/png": "[encoded data removed]",
      "text/plain": [
       "<Figure size 640x480 with 1 Axes>"
      ]
     },
     "metadata": {},
     "output_type": "display_data"
    }
   ],
   "source": [
    "# Total amount for each month\n",
    "group = df_copy1.groupby('Month')['Total'].sum()\n",
    "\n",
    "sns.barplot(x=group.index, y=group.values, color='purple')\n",
    "plt.ylabel('Total amount')\n",
    "plt.title('Total amount generated per month')\n",
    "plt.show()"
   ]
  },
  {
   "cell_type": "markdown",
   "id": "f04e06aa",
   "metadata": {},
   "source": [
    "January seem to be the month with most purchases, amounting to £10150.73, followed by February with an amount of £8907.65, while August seem to be less successfull with just £788.48"
   ]
  },
  {
   "cell_type": "code",
   "execution_count": 86,
   "id": "dc4164e9",
   "metadata": {},
   "outputs": [
    {
     "data": {
      "text/html": [
       "<div>\n",
       "<style scoped>\n",
       "    .dataframe tbody tr th:only-of-type {\n",
       "        vertical-align: middle;\n",
       "    }\n",
       "\n",
       "    .dataframe tbody tr th {\n",
       "        vertical-align: top;\n",
       "    }\n",
       "\n",
       "    .dataframe thead th {\n",
       "        text-align: right;\n",
       "    }\n",
       "</style>\n",
       "<table border=\"1\" class=\"dataframe\">\n",
       "  <thead>\n",
       "    <tr style=\"text-align: right;\">\n",
       "      <th></th>\n",
       "      <th>Client</th>\n",
       "      <th>Estimate</th>\n",
       "      <th>Total</th>\n",
       "      <th>Paid</th>\n",
       "      <th>Day</th>\n",
       "      <th>Month</th>\n",
       "      <th>Year</th>\n",
       "    </tr>\n",
       "  </thead>\n",
       "  <tbody>\n",
       "    <tr>\n",
       "      <th>0</th>\n",
       "      <td>Valando</td>\n",
       "      <td>2252.0</td>\n",
       "      <td>2139.40</td>\n",
       "      <td>Paid</td>\n",
       "      <td>1</td>\n",
       "      <td>1</td>\n",
       "      <td>2014</td>\n",
       "    </tr>\n",
       "    <tr>\n",
       "      <th>1</th>\n",
       "      <td>Livaca</td>\n",
       "      <td>2512.0</td>\n",
       "      <td>3215.36</td>\n",
       "      <td>Paid</td>\n",
       "      <td>2</td>\n",
       "      <td>1</td>\n",
       "      <td>2014</td>\n",
       "    </tr>\n",
       "    <tr>\n",
       "      <th>2</th>\n",
       "      <td>Skodour</td>\n",
       "      <td>2551.0</td>\n",
       "      <td>3290.79</td>\n",
       "      <td>Paid</td>\n",
       "      <td>6</td>\n",
       "      <td>1</td>\n",
       "      <td>2014</td>\n",
       "    </tr>\n",
       "    <tr>\n",
       "      <th>3</th>\n",
       "      <td>Symteco</td>\n",
       "      <td>905.0</td>\n",
       "      <td>868.80</td>\n",
       "      <td>Paid</td>\n",
       "      <td>15</td>\n",
       "      <td>1</td>\n",
       "      <td>2014</td>\n",
       "    </tr>\n",
       "    <tr>\n",
       "      <th>4</th>\n",
       "      <td>Eco Blvd</td>\n",
       "      <td>677.0</td>\n",
       "      <td>636.38</td>\n",
       "      <td>Paid</td>\n",
       "      <td>28</td>\n",
       "      <td>1</td>\n",
       "      <td>2014</td>\n",
       "    </tr>\n",
       "  </tbody>\n",
       "</table>\n",
       "</div>"
      ],
      "text/plain": [
       "     Client  Estimate    Total  Paid  Day  Month  Year\n",
       "0   Valando    2252.0  2139.40  Paid    1      1  2014\n",
       "1    Livaca    2512.0  3215.36  Paid    2      1  2014\n",
       "2   Skodour    2551.0  3290.79  Paid    6      1  2014\n",
       "3   Symteco     905.0   868.80  Paid   15      1  2014\n",
       "4  Eco Blvd     677.0   636.38  Paid   28      1  2014"
      ]
     },
     "execution_count": 86,
     "metadata": {},
     "output_type": "execute_result"
    }
   ],
   "source": [
    "df_copy1.head(5)"
   ]
  },
  {
   "cell_type": "code",
   "execution_count": 87,
   "id": "ed22ddaa",
   "metadata": {},
   "outputs": [
    {
     "data": {
      "text/plain": [
       "Paid    Month\n",
       "Paid    1        10150.73\n",
       "        2         8907.65\n",
       "        4         3211.43\n",
       "        7          468.12\n",
       "        10        1640.20\n",
       "Unpaid  3         2457.60\n",
       "        5         3150.53\n",
       "        7          817.00\n",
       "        8          788.48\n",
       "        10        2851.92\n",
       "        11        2446.25\n",
       "Name: Total, dtype: float64"
      ]
     },
     "execution_count": 87,
     "metadata": {},
     "output_type": "execute_result"
    }
   ],
   "source": [
    "group1 = df_copy1.groupby(['Paid', 'Month'])['Total'].sum()\n",
    "group1\n"
   ]
  },
  {
   "cell_type": "code",
   "execution_count": 88,
   "id": "a49925f9",
   "metadata": {},
   "outputs": [
    {
     "data": {
      "image/png": "[encoded data removed]",
      "text/plain": [
       "<Figure size 640x480 with 1 Axes>"
      ]
     },
     "metadata": {},
     "output_type": "display_data"
    }
   ],
   "source": [
    "group1.plot(kind='bar', color='purple')\n",
    "# plt.title('Average Revenue per Customer by Sales Method over Time')\n",
    "# plt.xlabel('Sales Method')\n",
    "# plt.ylabel('Revenue per Customer')\n",
    "\n",
    "plt.show()"
   ]
  },
  {
   "cell_type": "markdown",
   "id": "a79cc9a5",
   "metadata": {},
   "source": [
    "clients that made purchases in January, February and April paid for thier purchases while some clients who made purchases in July and October paid but the rest of the customers have unpaid purchases with May being the highest with an amount of £3150.53"
   ]
  },
  {
   "cell_type": "code",
   "execution_count": null,
   "id": "2eb95ae7",
   "metadata": {},
   "outputs": [],
   "source": []
  }
 ],
 "metadata": {
  "kernelspec": {
   "display_name": "Python 3",
   "language": "python",
   "name": "python3"
  },
  "language_info": {
   "codemirror_mode": {
    "name": "ipython",
    "version": 3
   },
   "file_extension": ".py",
   "mimetype": "text/x-python",
   "name": "python",
   "nbconvert_exporter": "python",
   "pygments_lexer": "ipython3",
   "version": "3.12.0"
  }
 },
 "nbformat": 4,
 "nbformat_minor": 5
}
