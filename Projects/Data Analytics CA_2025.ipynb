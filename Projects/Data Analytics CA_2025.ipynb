{
 "cells": [
  {
   "cell_type": "markdown",
   "metadata": {},
   "source": [
    "## Data Analytics with Python and Visualization CA"
   ]
  },
  {
   "cell_type": "markdown",
   "metadata": {},
   "source": [
    "Duration of Test: *2 hours*"
   ]
  },
  {
   "cell_type": "markdown",
   "metadata": {},
   "source": [
    "`Read me! Where neccessary double click on the cell to enter required information`"
   ]
  },
  {
   "cell_type": "markdown",
   "metadata": {},
   "source": [
    "*Student Name:*"
   ]
  },
  {
   "cell_type": "markdown",
   "metadata": {},
   "source": [
    "*Student Number:*"
   ]
  },
  {
   "cell_type": "markdown",
   "metadata": {},
   "source": [
    "Instructions:| Provide answers to all questions on this Notebook.\n",
    "The Dataset: covid_africa.csv include Covid-19 pandemic outbreak that originated in Wuhan, China in 2019.|\n",
    "    Covid-19 is a disease caused by the SARS-COV-2 coronavirus which preads between people in close contact. `Source:World Health Organization`. This analysis seeks to investicate the impact of covid-19 in Africa.\n",
    "  "
   ]
  },
  {
   "cell_type": "markdown",
   "metadata": {},
   "source": [
    " Every data analysis process involves:\n",
    "1. The process of defining objectives about the analysis process\n",
    "2. Constructing analysis questions\n",
    "3. Data collection\n",
    "4. Data cleaning and data analysis\n",
    "5. Interpretation of results\n",
    "6. Data visualization\n",
    "7. Data storytelling."
   ]
  },
  {
   "cell_type": "markdown",
   "metadata": {},
   "source": [
    "The Dataset below requires you to perform activities (4 and 5).\n"
   ]
  },
  {
   "cell_type": "markdown",
   "metadata": {},
   "source": [
    "*Section A: ~Analysis Defining Objectives*"
   ]
  },
  {
   "cell_type": "markdown",
   "metadata": {},
   "source": [
    "Question 1: As a junior data analyst, name four tools you will need inorder to perform an analysis process for company XYZ"
   ]
  },
  {
   "cell_type": "markdown",
   "metadata": {},
   "source": [
    "1.\n",
    "2.\n",
    "3.\n",
    "4."
   ]
  },
  {
   "cell_type": "markdown",
   "metadata": {},
   "source": [
    "Question 2: Specify or construct 4 analysis objectives you may consider from the dataset provided"
   ]
  },
  {
   "cell_type": "markdown",
   "metadata": {},
   "source": [
    "1.\n",
    "2. \n",
    "3.\n",
    "4."
   ]
  },
  {
   "cell_type": "markdown",
   "metadata": {},
   "source": [
    "*Section B: Data Cleaning and Analysis and Interpretation of results*"
   ]
  },
  {
   "cell_type": "code",
   "execution_count": 1,
   "metadata": {},
   "outputs": [],
   "source": [
    "#1 Import Libraries\n",
    "\n",
    "import numpy as np\n",
    "import pandas as pd\n"
   ]
  },
  {
   "cell_type": "code",
   "execution_count": 2,
   "metadata": {},
   "outputs": [],
   "source": [
    "#2 Load data set (use `covid_africa_df` as name of dataframe)\n",
    "covid_africa_df = pd.read_csv('covid_africa.csv')"
   ]
  },
  {
   "cell_type": "code",
   "execution_count": 3,
   "metadata": {},
   "outputs": [
    {
     "data": {
      "text/html": [
       "<div>\n",
       "<style scoped>\n",
       "    .dataframe tbody tr th:only-of-type {\n",
       "        vertical-align: middle;\n",
       "    }\n",
       "\n",
       "    .dataframe tbody tr th {\n",
       "        vertical-align: top;\n",
       "    }\n",
       "\n",
       "    .dataframe thead th {\n",
       "        text-align: right;\n",
       "    }\n",
       "</style>\n",
       "<table border=\"1\" class=\"dataframe\">\n",
       "  <thead>\n",
       "    <tr style=\"text-align: right;\">\n",
       "      <th></th>\n",
       "      <th>Country_Other</th>\n",
       "      <th>Total_Cases</th>\n",
       "      <th>Total_Deaths</th>\n",
       "      <th>Total_Recovered</th>\n",
       "      <th>Active_Cases</th>\n",
       "      <th>Tot Cases_1M_pop</th>\n",
       "      <th>Deaths_1M_pop</th>\n",
       "      <th>Total_Tests</th>\n",
       "      <th>Tests_1M_pop</th>\n",
       "      <th>Population</th>\n",
       "    </tr>\n",
       "  </thead>\n",
       "  <tbody>\n",
       "    <tr>\n",
       "      <th>0</th>\n",
       "      <td>Algeria</td>\n",
       "      <td>271852</td>\n",
       "      <td>6881</td>\n",
       "      <td>183061.0</td>\n",
       "      <td>81910.0</td>\n",
       "      <td>5995</td>\n",
       "      <td>152</td>\n",
       "      <td>230960.0</td>\n",
       "      <td>5093.0</td>\n",
       "      <td>45350148</td>\n",
       "    </tr>\n",
       "    <tr>\n",
       "      <th>1</th>\n",
       "      <td>Angola</td>\n",
       "      <td>105384</td>\n",
       "      <td>1934</td>\n",
       "      <td>103419.0</td>\n",
       "      <td>31.0</td>\n",
       "      <td>3009</td>\n",
       "      <td>55</td>\n",
       "      <td>1499795.0</td>\n",
       "      <td>42818.0</td>\n",
       "      <td>35027343</td>\n",
       "    </tr>\n",
       "    <tr>\n",
       "      <th>2</th>\n",
       "      <td>Benin</td>\n",
       "      <td>28014</td>\n",
       "      <td>163</td>\n",
       "      <td>27847.0</td>\n",
       "      <td>4.0</td>\n",
       "      <td>2191</td>\n",
       "      <td>13</td>\n",
       "      <td>604310.0</td>\n",
       "      <td>47268.0</td>\n",
       "      <td>12784726</td>\n",
       "    </tr>\n",
       "    <tr>\n",
       "      <th>3</th>\n",
       "      <td>Botswana</td>\n",
       "      <td>330256</td>\n",
       "      <td>2801</td>\n",
       "      <td>327049.0</td>\n",
       "      <td>406.0</td>\n",
       "      <td>135286</td>\n",
       "      <td>1147</td>\n",
       "      <td>2026898.0</td>\n",
       "      <td>830300.0</td>\n",
       "      <td>2441162</td>\n",
       "    </tr>\n",
       "    <tr>\n",
       "      <th>4</th>\n",
       "      <td>Burkina Faso</td>\n",
       "      <td>22056</td>\n",
       "      <td>396</td>\n",
       "      <td>21596.0</td>\n",
       "      <td>64.0</td>\n",
       "      <td>998</td>\n",
       "      <td>18</td>\n",
       "      <td>248995.0</td>\n",
       "      <td>11265.0</td>\n",
       "      <td>22102838</td>\n",
       "    </tr>\n",
       "  </tbody>\n",
       "</table>\n",
       "</div>"
      ],
      "text/plain": [
       "  Country_Other  Total_Cases  Total_Deaths  Total_Recovered  Active_Cases  \\\n",
       "0       Algeria       271852          6881         183061.0       81910.0   \n",
       "1        Angola       105384          1934         103419.0          31.0   \n",
       "2         Benin        28014           163          27847.0           4.0   \n",
       "3      Botswana       330256          2801         327049.0         406.0   \n",
       "4  Burkina Faso        22056           396          21596.0          64.0   \n",
       "\n",
       "   Tot Cases_1M_pop  Deaths_1M_pop  Total_Tests  Tests_1M_pop  Population  \n",
       "0              5995            152     230960.0        5093.0    45350148  \n",
       "1              3009             55    1499795.0       42818.0    35027343  \n",
       "2              2191             13     604310.0       47268.0    12784726  \n",
       "3            135286           1147    2026898.0      830300.0     2441162  \n",
       "4               998             18     248995.0       11265.0    22102838  "
      ]
     },
     "execution_count": 3,
     "metadata": {},
     "output_type": "execute_result"
    }
   ],
   "source": [
    "#3 Display the first 5 rows\n",
    "\n",
    "covid_africa_df.head(5)"
   ]
  },
  {
   "cell_type": "code",
   "execution_count": 4,
   "metadata": {},
   "outputs": [
    {
     "data": {
      "text/html": [
       "<div>\n",
       "<style scoped>\n",
       "    .dataframe tbody tr th:only-of-type {\n",
       "        vertical-align: middle;\n",
       "    }\n",
       "\n",
       "    .dataframe tbody tr th {\n",
       "        vertical-align: top;\n",
       "    }\n",
       "\n",
       "    .dataframe thead th {\n",
       "        text-align: right;\n",
       "    }\n",
       "</style>\n",
       "<table border=\"1\" class=\"dataframe\">\n",
       "  <thead>\n",
       "    <tr style=\"text-align: right;\">\n",
       "      <th></th>\n",
       "      <th>Country_Other</th>\n",
       "      <th>Total_Cases</th>\n",
       "      <th>Total_Deaths</th>\n",
       "      <th>Total_Recovered</th>\n",
       "      <th>Active_Cases</th>\n",
       "      <th>Tot Cases_1M_pop</th>\n",
       "      <th>Deaths_1M_pop</th>\n",
       "      <th>Total_Tests</th>\n",
       "      <th>Tests_1M_pop</th>\n",
       "      <th>Population</th>\n",
       "    </tr>\n",
       "  </thead>\n",
       "  <tbody>\n",
       "    <tr>\n",
       "      <th>49</th>\n",
       "      <td>Togo</td>\n",
       "      <td>39513</td>\n",
       "      <td>290</td>\n",
       "      <td>39216.0</td>\n",
       "      <td>7.0</td>\n",
       "      <td>4552</td>\n",
       "      <td>33</td>\n",
       "      <td>812881.0</td>\n",
       "      <td>93641.0</td>\n",
       "      <td>8680837</td>\n",
       "    </tr>\n",
       "    <tr>\n",
       "      <th>50</th>\n",
       "      <td>Tunisia</td>\n",
       "      <td>1153361</td>\n",
       "      <td>29423</td>\n",
       "      <td>NaN</td>\n",
       "      <td>NaN</td>\n",
       "      <td>95741</td>\n",
       "      <td>2442</td>\n",
       "      <td>5013383.0</td>\n",
       "      <td>416164.0</td>\n",
       "      <td>12046656</td>\n",
       "    </tr>\n",
       "    <tr>\n",
       "      <th>51</th>\n",
       "      <td>Uganda</td>\n",
       "      <td>171829</td>\n",
       "      <td>3632</td>\n",
       "      <td>100431.0</td>\n",
       "      <td>67766.0</td>\n",
       "      <td>3548</td>\n",
       "      <td>75</td>\n",
       "      <td>3012408.0</td>\n",
       "      <td>62198.0</td>\n",
       "      <td>48432863</td>\n",
       "    </tr>\n",
       "    <tr>\n",
       "      <th>52</th>\n",
       "      <td>Zambia</td>\n",
       "      <td>349287</td>\n",
       "      <td>4069</td>\n",
       "      <td>341316.0</td>\n",
       "      <td>3902.0</td>\n",
       "      <td>17940</td>\n",
       "      <td>209</td>\n",
       "      <td>4112961.0</td>\n",
       "      <td>211244.0</td>\n",
       "      <td>19470234</td>\n",
       "    </tr>\n",
       "    <tr>\n",
       "      <th>53</th>\n",
       "      <td>Zimbabwe</td>\n",
       "      <td>265742</td>\n",
       "      <td>5718</td>\n",
       "      <td>258888.0</td>\n",
       "      <td>1136.0</td>\n",
       "      <td>17333</td>\n",
       "      <td>373</td>\n",
       "      <td>2525756.0</td>\n",
       "      <td>164744.0</td>\n",
       "      <td>15331428</td>\n",
       "    </tr>\n",
       "  </tbody>\n",
       "</table>\n",
       "</div>"
      ],
      "text/plain": [
       "   Country_Other  Total_Cases  Total_Deaths  Total_Recovered  Active_Cases  \\\n",
       "49          Togo        39513           290          39216.0           7.0   \n",
       "50       Tunisia      1153361         29423              NaN           NaN   \n",
       "51        Uganda       171829          3632         100431.0       67766.0   \n",
       "52        Zambia       349287          4069         341316.0        3902.0   \n",
       "53      Zimbabwe       265742          5718         258888.0        1136.0   \n",
       "\n",
       "    Tot Cases_1M_pop  Deaths_1M_pop  Total_Tests  Tests_1M_pop  Population  \n",
       "49              4552             33     812881.0       93641.0     8680837  \n",
       "50             95741           2442    5013383.0      416164.0    12046656  \n",
       "51              3548             75    3012408.0       62198.0    48432863  \n",
       "52             17940            209    4112961.0      211244.0    19470234  \n",
       "53             17333            373    2525756.0      164744.0    15331428  "
      ]
     },
     "execution_count": 4,
     "metadata": {},
     "output_type": "execute_result"
    }
   ],
   "source": [
    "#4 Display the last 5 rows\n",
    "\n",
    "covid_africa_df.tail(5)\n"
   ]
  },
  {
   "cell_type": "code",
   "execution_count": 5,
   "metadata": {},
   "outputs": [
    {
     "name": "stdout",
     "output_type": "stream",
     "text": [
      "<class 'pandas.core.frame.DataFrame'>\n",
      "RangeIndex: 54 entries, 0 to 53\n",
      "Data columns (total 10 columns):\n",
      " #   Column            Non-Null Count  Dtype  \n",
      "---  ------            --------------  -----  \n",
      " 0   Country_Other     54 non-null     object \n",
      " 1   Total_Cases       54 non-null     int64  \n",
      " 2   Total_Deaths      54 non-null     int64  \n",
      " 3   Total_Recovered   51 non-null     float64\n",
      " 4   Active_Cases      51 non-null     float64\n",
      " 5   Tot Cases_1M_pop  54 non-null     int64  \n",
      " 6   Deaths_1M_pop     54 non-null     int64  \n",
      " 7   Total_Tests       51 non-null     float64\n",
      " 8   Tests_1M_pop      51 non-null     float64\n",
      " 9   Population        54 non-null     int64  \n",
      "dtypes: float64(4), int64(5), object(1)\n",
      "memory usage: 4.3+ KB\n"
     ]
    }
   ],
   "source": [
    "#5 Provide information on Column names and data types in the dataset\n",
    "\n",
    "covid_africa_df.info()"
   ]
  },
  {
   "cell_type": "code",
   "execution_count": 3,
   "metadata": {},
   "outputs": [
    {
     "name": "stdout",
     "output_type": "stream",
     "text": [
      "54 rows\n",
      "10 columns\n"
     ]
    }
   ],
   "source": [
    "#6 How many rows and columns are in the data set\n",
    "\n",
    "print(f'{covid_africa_df.shape[0]} rows')\n",
    "print(f'{covid_africa_df.shape[1]} columns')"
   ]
  },
  {
   "cell_type": "code",
   "execution_count": 14,
   "metadata": {},
   "outputs": [
    {
     "data": {
      "text/plain": [
       "Country_Other       False\n",
       "Total_Cases         False\n",
       "Total_Deaths        False\n",
       "Total_Recovered      True\n",
       "Active_Cases         True\n",
       "Tot Cases_1M_pop    False\n",
       "Deaths_1M_pop       False\n",
       "Total_Tests          True\n",
       "Tests_1M_pop         True\n",
       "Population          False\n",
       "dtype: bool"
      ]
     },
     "execution_count": 14,
     "metadata": {},
     "output_type": "execute_result"
    }
   ],
   "source": [
    "#7 Check for any missing values\n",
    "\n",
    "covid_africa_df.isnull().any()"
   ]
  },
  {
   "cell_type": "markdown",
   "metadata": {},
   "source": [
    "#### --- COVID-19 Case Trends ---\n"
   ]
  },
  {
   "cell_type": "code",
   "execution_count": 4,
   "metadata": {},
   "outputs": [
    {
     "name": "stdout",
     "output_type": "stream",
     "text": [
      "12307083 total confirmed cases\n"
     ]
    }
   ],
   "source": [
    "#8 Total confirmed cases\n",
    "\n",
    "total_cases = covid_africa_df['Total_Cases'].sum()\n",
    "print(f'{total_cases} total confirmed cases')\n"
   ]
  },
  {
   "cell_type": "code",
   "execution_count": null,
   "metadata": {},
   "outputs": [],
   "source": [
    "#9 Country Name with highest and lowest confirmed cases\n"
   ]
  },
  {
   "cell_type": "code",
   "execution_count": 27,
   "metadata": {},
   "outputs": [
    {
     "name": "stdout",
     "output_type": "stream",
     "text": [
      "Country_Other       South Africa\n",
      "Total_Cases              4076463\n",
      "Total_Deaths              102595\n",
      "Total_Recovered        3912506.0\n",
      "Active_Cases             61362.0\n",
      "Tot Cases_1M_pop           67095\n",
      "Deaths_1M_pop               1689\n",
      "Total_Tests           26795090.0\n",
      "Tests_1M_pop            441027.0\n",
      "Population              60756135\n",
      "Name: 45, dtype: object\n"
     ]
    }
   ],
   "source": [
    "# highest_cases\n",
    "\n",
    "# highest_cases = covid_africa_df['Total_Cases'].max()\n",
    "country = covid_africa_df.loc[covid_africa_df['Total_Cases'].idxmax()]\n",
    "# print(highest_cases)\n",
    "print(country)"
   ]
  },
  {
   "cell_type": "code",
   "execution_count": 3,
   "metadata": {},
   "outputs": [
    {
     "name": "stdout",
     "output_type": "stream",
     "text": [
      "Country_Other       Sao Tome and Principe\n",
      "Total_Cases                          6597\n",
      "Total_Deaths                           80\n",
      "Total_Recovered                    6517.0\n",
      "Active_Cases                          0.0\n",
      "Tot Cases_1M_pop                    28975\n",
      "Deaths_1M_pop                         351\n",
      "Total_Tests                       29036.0\n",
      "Tests_1M_pop                     127530.0\n",
      "Population                         227679\n",
      "Name: 40, dtype: object\n"
     ]
    }
   ],
   "source": [
    "# lowest_cases\n",
    "\n",
    "# lowest_cases = covid_africa_df['Total_Cases'].min()\n",
    "country = covid_africa_df.loc[covid_africa_df['Total_Cases'].idxmin()]\n",
    "# print(lowest_cases)\n",
    "print(country)"
   ]
  },
  {
   "cell_type": "code",
   "execution_count": 5,
   "metadata": {},
   "outputs": [
    {
     "data": {
      "text/plain": [
       "Country_Other\n",
       "Algeria                  81910.0\n",
       "Angola                      31.0\n",
       "Benin                        4.0\n",
       "Botswana                   406.0\n",
       "Burkina Faso                64.0\n",
       "Burundi                    634.0\n",
       "CAR                         55.0\n",
       "Cabo Verde                  68.0\n",
       "Cameroon                   309.0\n",
       "Chad                      2633.0\n",
       "Comoros                      9.0\n",
       "Congo                      983.0\n",
       "DRC                      11740.0\n",
       "Djibouti                    74.0\n",
       "Egypt                    49228.0\n",
       "Equatorial Guinea          139.0\n",
       "Eritrea                      0.0\n",
       "Eswatini                   339.0\n",
       "Ethiopia                  5287.0\n",
       "Gabon                       11.0\n",
       "Gambia                      65.0\n",
       "Ghana                       23.0\n",
       "Guinea                     338.0\n",
       "Guinea-Bissau              508.0\n",
       "Ivory Coast                  6.0\n",
       "Kenya                      957.0\n",
       "Lesotho                   8087.0\n",
       "Liberia                     12.0\n",
       "Libya                        0.0\n",
       "Madagascar                  43.0\n",
       "Malawi                     571.0\n",
       "Mali                        77.0\n",
       "Mauritania                 247.0\n",
       "Mauritius                  681.0\n",
       "Morocco                   3728.0\n",
       "Mozambique                2369.0\n",
       "Namibia                    801.0\n",
       "Niger                      729.0\n",
       "Nigeria                   3567.0\n",
       "Rwanda                      79.0\n",
       "Sao Tome and Principe        0.0\n",
       "Senegal                     19.0\n",
       "Seychelles                  15.0\n",
       "Sierra Leone                 0.0\n",
       "Somalia                  12791.0\n",
       "South Africa             61362.0\n",
       "South Sudan                115.0\n",
       "Sudan                        0.0\n",
       "Tanzania                     0.0\n",
       "Togo                         7.0\n",
       "Tunisia                      0.0\n",
       "Uganda                   67766.0\n",
       "Zambia                    3902.0\n",
       "Zimbabwe                  1136.0\n",
       "Name: Active_Cases, dtype: float64"
      ]
     },
     "execution_count": 5,
     "metadata": {},
     "output_type": "execute_result"
    }
   ],
   "source": [
    "#10 Number of Active cases by country(use the groupby())\n",
    "\n",
    "active_cases = covid_africa_df.groupby(['Country_Other'])['Active_Cases'].sum()\n",
    "active_cases"
   ]
  },
  {
   "cell_type": "code",
   "execution_count": 7,
   "metadata": {},
   "outputs": [
    {
     "data": {
      "text/plain": [
       "Country_Other\n",
       "Algeria         81910.0\n",
       "Uganda          67766.0\n",
       "South Africa    61362.0\n",
       "Egypt           49228.0\n",
       "Somalia         12791.0\n",
       "Name: Active_Cases, dtype: float64"
      ]
     },
     "execution_count": 7,
     "metadata": {},
     "output_type": "execute_result"
    }
   ],
   "source": [
    "\n",
    "#11 Most Active cases by country\n",
    "\n",
    "most_active_cases = covid_africa_df['Active_Cases'].nlargest()\n",
    "most_active_cases"
   ]
  },
  {
   "cell_type": "markdown",
   "metadata": {},
   "source": [
    "#### --- Mortality and Recovery Analysis ---\n"
   ]
  },
  {
   "cell_type": "code",
   "execution_count": 23,
   "metadata": {},
   "outputs": [
    {
     "name": "stdout",
     "output_type": "stream",
     "text": [
      "257720\n"
     ]
    }
   ],
   "source": [
    "#12 Number of Total deaths\n",
    "total_deaths = covid_africa_df['Total_Deaths'].sum()\n",
    "print(total_deaths)"
   ]
  },
  {
   "cell_type": "code",
   "execution_count": 12,
   "metadata": {},
   "outputs": [
    {
     "name": "stdout",
     "output_type": "stream",
     "text": [
      "Country_Other       South Africa\n",
      "Total_Cases              4076463\n",
      "Total_Deaths              102595\n",
      "Total_Recovered        3912506.0\n",
      "Active_Cases             61362.0\n",
      "Tot Cases_1M_pop           67095\n",
      "Deaths_1M_pop               1689\n",
      "Total_Tests           26795090.0\n",
      "Tests_1M_pop            441027.0\n",
      "Population              60756135\n",
      "Name: 45, dtype: object\n"
     ]
    }
   ],
   "source": [
    "#13 Country with highest death toll(hint: use the groupby() also use the idxmax())\n",
    "\n",
    "country_highest_death = covid_africa_df.loc[covid_africa_df['Total_Deaths'].idxmax()]\n",
    "print(country_highest_death)"
   ]
  },
  {
   "cell_type": "code",
   "execution_count": 14,
   "metadata": {},
   "outputs": [
    {
     "data": {
      "text/plain": [
       "Country_Other\n",
       "Algeria                   183061.0\n",
       "Angola                    103419.0\n",
       "Benin                      27847.0\n",
       "Botswana                  327049.0\n",
       "Burkina Faso               21596.0\n",
       "Burundi                    53569.0\n",
       "CAR                        15200.0\n",
       "Cabo Verde                 63755.0\n",
       "Cameroon                  122807.0\n",
       "Chad                        4874.0\n",
       "Comoros                     8939.0\n",
       "Congo                      24006.0\n",
       "DRC                        84489.0\n",
       "Djibouti                   15427.0\n",
       "Egypt                     442182.0\n",
       "Equatorial Guinea          16907.0\n",
       "Eritrea                    10086.0\n",
       "Eswatini                   73116.0\n",
       "Ethiopia                  488171.0\n",
       "Gabon                      48674.0\n",
       "Gambia                     12189.0\n",
       "Ghana                     170255.0\n",
       "Guinea                     37757.0\n",
       "Guinea-Bissau               8929.0\n",
       "Ivory Coast                87497.0\n",
       "Kenya                     337309.0\n",
       "Lesotho                    25980.0\n",
       "Liberia                     7783.0\n",
       "Libya                     500833.0\n",
       "Madagascar                 66862.0\n",
       "Malawi                     85651.0\n",
       "Mali                       32332.0\n",
       "Mauritania                 62471.0\n",
       "Mauritius                  41173.0\n",
       "Morocco                  1256151.0\n",
       "Mozambique                228805.0\n",
       "Namibia                   167099.0\n",
       "Niger                       8890.0\n",
       "Nigeria                   259953.0\n",
       "Rwanda                    131647.0\n",
       "Sao Tome and Principe       6517.0\n",
       "Senegal                    87024.0\n",
       "Seychelles                 50750.0\n",
       "Sierra Leone                   0.0\n",
       "Somalia                    13182.0\n",
       "South Africa             3912506.0\n",
       "South Sudan                18115.0\n",
       "Sudan                      58947.0\n",
       "Tanzania                       0.0\n",
       "Togo                       39216.0\n",
       "Tunisia                        0.0\n",
       "Uganda                    100431.0\n",
       "Zambia                    341316.0\n",
       "Zimbabwe                  258888.0\n",
       "Name: Total_Recovered, dtype: float64"
      ]
     },
     "execution_count": 14,
     "metadata": {},
     "output_type": "execute_result"
    }
   ],
   "source": [
    "#14 Recovery rate by country\n",
    "\n",
    "recovery_rate = covid_africa_df.groupby(['Country_Other'])['Total_Recovered'].sum()\n",
    "recovery_rate"
   ]
  },
  {
   "cell_type": "markdown",
   "metadata": {},
   "source": [
    "#### --- Testing and Healthcare Capacity ---\n",
    " "
   ]
  },
  {
   "cell_type": "code",
   "execution_count": null,
   "metadata": {},
   "outputs": [],
   "source": []
  },
  {
   "cell_type": "code",
   "execution_count": 16,
   "metadata": {},
   "outputs": [
    {
     "data": {
      "text/html": [
       "<div>\n",
       "<style scoped>\n",
       "    .dataframe tbody tr th:only-of-type {\n",
       "        vertical-align: middle;\n",
       "    }\n",
       "\n",
       "    .dataframe tbody tr th {\n",
       "        vertical-align: top;\n",
       "    }\n",
       "\n",
       "    .dataframe thead th {\n",
       "        text-align: right;\n",
       "    }\n",
       "</style>\n",
       "<table border=\"1\" class=\"dataframe\">\n",
       "  <thead>\n",
       "    <tr style=\"text-align: right;\">\n",
       "      <th></th>\n",
       "      <th>Country_Other</th>\n",
       "      <th>Total_Cases</th>\n",
       "      <th>Total_Deaths</th>\n",
       "      <th>Total_Recovered</th>\n",
       "      <th>Active_Cases</th>\n",
       "      <th>Tot Cases_1M_pop</th>\n",
       "      <th>Deaths_1M_pop</th>\n",
       "      <th>Total_Tests</th>\n",
       "      <th>Tests_1M_pop</th>\n",
       "      <th>Population</th>\n",
       "    </tr>\n",
       "  </thead>\n",
       "  <tbody>\n",
       "    <tr>\n",
       "      <th>0</th>\n",
       "      <td>Algeria</td>\n",
       "      <td>271852</td>\n",
       "      <td>6881</td>\n",
       "      <td>183061.0</td>\n",
       "      <td>81910.0</td>\n",
       "      <td>5995</td>\n",
       "      <td>152</td>\n",
       "      <td>230960.0</td>\n",
       "      <td>5093.0</td>\n",
       "      <td>45350148</td>\n",
       "    </tr>\n",
       "    <tr>\n",
       "      <th>1</th>\n",
       "      <td>Angola</td>\n",
       "      <td>105384</td>\n",
       "      <td>1934</td>\n",
       "      <td>103419.0</td>\n",
       "      <td>31.0</td>\n",
       "      <td>3009</td>\n",
       "      <td>55</td>\n",
       "      <td>1499795.0</td>\n",
       "      <td>42818.0</td>\n",
       "      <td>35027343</td>\n",
       "    </tr>\n",
       "    <tr>\n",
       "      <th>2</th>\n",
       "      <td>Benin</td>\n",
       "      <td>28014</td>\n",
       "      <td>163</td>\n",
       "      <td>27847.0</td>\n",
       "      <td>4.0</td>\n",
       "      <td>2191</td>\n",
       "      <td>13</td>\n",
       "      <td>604310.0</td>\n",
       "      <td>47268.0</td>\n",
       "      <td>12784726</td>\n",
       "    </tr>\n",
       "  </tbody>\n",
       "</table>\n",
       "</div>"
      ],
      "text/plain": [
       "  Country_Other  Total_Cases  Total_Deaths  Total_Recovered  Active_Cases  \\\n",
       "0       Algeria       271852          6881         183061.0       81910.0   \n",
       "1        Angola       105384          1934         103419.0          31.0   \n",
       "2         Benin        28014           163          27847.0           4.0   \n",
       "\n",
       "   Tot Cases_1M_pop  Deaths_1M_pop  Total_Tests  Tests_1M_pop  Population  \n",
       "0              5995            152     230960.0        5093.0    45350148  \n",
       "1              3009             55    1499795.0       42818.0    35027343  \n",
       "2              2191             13     604310.0       47268.0    12784726  "
      ]
     },
     "execution_count": 16,
     "metadata": {},
     "output_type": "execute_result"
    }
   ],
   "source": [
    "covid_africa_df.head(3)\n"
   ]
  },
  {
   "cell_type": "code",
   "execution_count": 18,
   "metadata": {},
   "outputs": [
    {
     "name": "stdout",
     "output_type": "stream",
     "text": [
      "109245539.0\n"
     ]
    }
   ],
   "source": [
    "#15 Total Number of tests conducted\n",
    "total_tests = covid_africa_df['Total_Tests'].sum()\n",
    "print(total_tests)"
   ]
  },
  {
   "cell_type": "code",
   "execution_count": null,
   "metadata": {},
   "outputs": [
    {
     "name": "stdout",
     "output_type": "stream",
     "text": [
      "0.9527087469686984\n"
     ]
    }
   ],
   "source": [
    "#16 Correlation between tests and cases(use the corr())\n",
    "corr_cases = covid_africa_df.corr()\n",
    "correlation = corr_cases.loc['Total_Tests', 'Total_Cases']\n",
    "print(correlation)"
   ]
  },
  {
   "cell_type": "code",
   "execution_count": 20,
   "metadata": {},
   "outputs": [
    {
     "data": {
      "text/plain": [
       "Country_Other\n",
       "Algeria                  117.705230\n",
       "Eritrea                   43.004263\n",
       "Tunisia                   23.005643\n",
       "Sao Tome and Principe     22.720072\n",
       "Libya                     20.422747\n",
       "CAR                       18.904224\n",
       "Mozambique                17.023733\n",
       "Botswana                  16.293666\n",
       "Namibia                   16.185564\n",
       "Cabo Verde                15.994642\n",
       "Name: Positivity_Rate, dtype: float64"
      ]
     },
     "execution_count": 20,
     "metadata": {},
     "output_type": "execute_result"
    }
   ],
   "source": [
    "#17 Names of 10 Countries with highest test positivity rate\n",
    "covid_africa_df['Positivity_Rate'] = (covid_africa_df['Total_Cases']/covid_africa_df['Total_Tests'])*100\n",
    "highest_positivity = covid_africa_df['Positivity_Rate'].nlargest(10)\n",
    "highest_positivity"
   ]
  },
  {
   "cell_type": "markdown",
   "metadata": {},
   "source": [
    "#### --- Population Impact and Comparisons --- "
   ]
  },
  {
   "cell_type": "code",
   "execution_count": 21,
   "metadata": {},
   "outputs": [
    {
     "data": {
      "text/html": [
       "<div>\n",
       "<style scoped>\n",
       "    .dataframe tbody tr th:only-of-type {\n",
       "        vertical-align: middle;\n",
       "    }\n",
       "\n",
       "    .dataframe tbody tr th {\n",
       "        vertical-align: top;\n",
       "    }\n",
       "\n",
       "    .dataframe thead th {\n",
       "        text-align: right;\n",
       "    }\n",
       "</style>\n",
       "<table border=\"1\" class=\"dataframe\">\n",
       "  <thead>\n",
       "    <tr style=\"text-align: right;\">\n",
       "      <th></th>\n",
       "      <th>Total_Cases</th>\n",
       "      <th>Total_Deaths</th>\n",
       "      <th>Total_Recovered</th>\n",
       "      <th>Active_Cases</th>\n",
       "      <th>Tot Cases_1M_pop</th>\n",
       "      <th>Deaths_1M_pop</th>\n",
       "      <th>Total_Tests</th>\n",
       "      <th>Tests_1M_pop</th>\n",
       "      <th>Population</th>\n",
       "      <th>Positivity_Rate</th>\n",
       "    </tr>\n",
       "    <tr>\n",
       "      <th>Country_Other</th>\n",
       "      <th></th>\n",
       "      <th></th>\n",
       "      <th></th>\n",
       "      <th></th>\n",
       "      <th></th>\n",
       "      <th></th>\n",
       "      <th></th>\n",
       "      <th></th>\n",
       "      <th></th>\n",
       "      <th></th>\n",
       "    </tr>\n",
       "  </thead>\n",
       "  <tbody>\n",
       "    <tr>\n",
       "      <th>Algeria</th>\n",
       "      <td>271852</td>\n",
       "      <td>6881</td>\n",
       "      <td>183061.0</td>\n",
       "      <td>81910.0</td>\n",
       "      <td>5995</td>\n",
       "      <td>152</td>\n",
       "      <td>230960.0</td>\n",
       "      <td>5093.0</td>\n",
       "      <td>45350148</td>\n",
       "      <td>117.70523</td>\n",
       "    </tr>\n",
       "    <tr>\n",
       "      <th>Angola</th>\n",
       "      <td>105384</td>\n",
       "      <td>1934</td>\n",
       "      <td>103419.0</td>\n",
       "      <td>31.0</td>\n",
       "      <td>3009</td>\n",
       "      <td>55</td>\n",
       "      <td>1499795.0</td>\n",
       "      <td>42818.0</td>\n",
       "      <td>35027343</td>\n",
       "      <td>7.02656</td>\n",
       "    </tr>\n",
       "    <tr>\n",
       "      <th>Benin</th>\n",
       "      <td>28014</td>\n",
       "      <td>163</td>\n",
       "      <td>27847.0</td>\n",
       "      <td>4.0</td>\n",
       "      <td>2191</td>\n",
       "      <td>13</td>\n",
       "      <td>604310.0</td>\n",
       "      <td>47268.0</td>\n",
       "      <td>12784726</td>\n",
       "      <td>4.63570</td>\n",
       "    </tr>\n",
       "  </tbody>\n",
       "</table>\n",
       "</div>"
      ],
      "text/plain": [
       "               Total_Cases  Total_Deaths  Total_Recovered  Active_Cases  \\\n",
       "Country_Other                                                             \n",
       "Algeria             271852          6881         183061.0       81910.0   \n",
       "Angola              105384          1934         103419.0          31.0   \n",
       "Benin                28014           163          27847.0           4.0   \n",
       "\n",
       "               Tot Cases_1M_pop  Deaths_1M_pop  Total_Tests  Tests_1M_pop  \\\n",
       "Country_Other                                                               \n",
       "Algeria                    5995            152     230960.0        5093.0   \n",
       "Angola                     3009             55    1499795.0       42818.0   \n",
       "Benin                      2191             13     604310.0       47268.0   \n",
       "\n",
       "               Population  Positivity_Rate  \n",
       "Country_Other                               \n",
       "Algeria          45350148        117.70523  \n",
       "Angola           35027343          7.02656  \n",
       "Benin            12784726          4.63570  "
      ]
     },
     "execution_count": 21,
     "metadata": {},
     "output_type": "execute_result"
    }
   ],
   "source": [
    "covid_africa_df.columns\n",
    "covid_africa_df.head(3)"
   ]
  },
  {
   "cell_type": "code",
   "execution_count": 4,
   "metadata": {},
   "outputs": [
    {
     "data": {
      "text/plain": [
       "0       5995\n",
       "1       3009\n",
       "2       2191\n",
       "3     135286\n",
       "4        998\n",
       "5       4296\n",
       "6       3063\n",
       "7     113159\n",
       "8       4482\n",
       "9        442\n",
       "10     10038\n",
       "11      4377\n",
       "12      1026\n",
       "13     15441\n",
       "14      4861\n",
       "15     11512\n",
       "16      2782\n",
       "17     63201\n",
       "18      4147\n",
       "19     21013\n",
       "20      4935\n",
       "21      5301\n",
       "22      2781\n",
       "23      4659\n",
       "24      3184\n",
       "25      6119\n",
       "26     15990\n",
       "27      1525\n",
       "28     72048\n",
       "29      2342\n",
       "30      4406\n",
       "31      1544\n",
       "32     12998\n",
       "33     33658\n",
       "34     33786\n",
       "35      7054\n",
       "36     65302\n",
       "37       381\n",
       "38      1230\n",
       "39      9793\n",
       "40     28975\n",
       "41      5042\n",
       "42    512311\n",
       "43       934\n",
       "44      1623\n",
       "45     67095\n",
       "46      1581\n",
       "47      1391\n",
       "48       681\n",
       "49      4552\n",
       "50     95741\n",
       "51      3548\n",
       "52     17940\n",
       "53     17333\n",
       "Name: Tot Cases_1M_pop, dtype: int64"
      ]
     },
     "execution_count": 4,
     "metadata": {},
     "output_type": "execute_result"
    }
   ],
   "source": [
    "#18 Whats the Infection rate per 1,000,000 people\n",
    "\n",
    "# covid_africa_df['Infection_rate_per_1M'] = (covid_africa_df['Total_Cases']/covid_africa_df['Population'])*1000000\n",
    "\n",
    "covid_africa_df['Tot Cases_1M_pop']\n"
   ]
  },
  {
   "cell_type": "code",
   "execution_count": 7,
   "metadata": {},
   "outputs": [
    {
     "data": {
      "text/plain": [
       "Country_Other               Seychelles\n",
       "Total_Cases                      50937\n",
       "Total_Deaths                       172\n",
       "Total_Recovered                50750.0\n",
       "Active_Cases                      15.0\n",
       "Tot Cases_1M_pop                512311\n",
       "Deaths_1M_pop                     1730\n",
       "Total_Tests                        NaN\n",
       "Tests_1M_pop                       NaN\n",
       "Population                       99426\n",
       "Infection_rate_per_1M    512310.663207\n",
       "Name: 42, dtype: object"
      ]
     },
     "execution_count": 7,
     "metadata": {},
     "output_type": "execute_result"
    }
   ],
   "source": [
    "#19 Whats the highest Infection rate country per 1,000,000 people\n",
    "highest_infection_rate_country = covid_africa_df.loc[covid_africa_df['Tot Cases_1M_pop'].idxmax()]\n",
    "highest_infection_rate_country"
   ]
  },
  {
   "cell_type": "code",
   "execution_count": 10,
   "metadata": {},
   "outputs": [
    {
     "data": {
      "text/plain": [
       "42    512311\n",
       "3     135286\n",
       "7     113159\n",
       "50     95741\n",
       "28     72048\n",
       "Name: Tot Cases_1M_pop, dtype: int64"
      ]
     },
     "execution_count": 10,
     "metadata": {},
     "output_type": "execute_result"
    }
   ],
   "source": [
    "#20 Countries with highest infection rate\n",
    "covid_africa_df['Tot Cases_1M_pop'].nlargest()"
   ]
  },
  {
   "cell_type": "markdown",
   "metadata": {},
   "source": [
    "End of questions"
   ]
  }
 ],
 "metadata": {
  "kernelspec": {
   "display_name": "Python 3",
   "language": "python",
   "name": "python3"
  },
  "language_info": {
   "codemirror_mode": {
    "name": "ipython",
    "version": 3
   },
   "file_extension": ".py",
   "mimetype": "text/x-python",
   "name": "python",
   "nbconvert_exporter": "python",
   "pygments_lexer": "ipython3",
   "version": "3.12.0"
  }
 },
 "nbformat": 4,
 "nbformat_minor": 2
}
