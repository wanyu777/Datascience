{
 "cells": [
  {
   "cell_type": "markdown",
   "id": "792ca8c1",
   "metadata": {},
   "source": [
    "## Data Analytics with Visualization in Python Exam.\n",
    "\n",
    "## <><><><>Student Identification Information<><><><>\n",
    "\n",
    "### Student Name:\n",
    "### Matriculation Number:\n",
    "### Specialty:"
   ]
  },
  {
   "cell_type": "markdown",
   "id": "90386353",
   "metadata": {},
   "source": [
    "## This is a practical examination. INTERNET ACCESS IS PROHIBITED!\n",
    "### Scenario\n",
    "Company XYZ is a mid-sized e-commerce retailer specializing in fashion and lifestyle products in Buea. Over the past year, the company has experienced steady growth but is now facing increased competition and a plateau in customer retention. To address this, XYZ aims to leverage the data generated during the entire life-time of the business. She safeguards the data and stores it into an excel sheet with the file name Customer Shopping dataset. Her intention is to use the data to explore insights and discover patterns to gain deeper insights into customer behavior, preferences, and purchasing patterns. The goal is to tailor marketing strategies, optimize product offerings, and improve the overall customer experience to drive higher engagement and loyalty.\n",
    "The Customer Shopping Dataset offers valuable insights into consumer behavior and purchasing patterns. Understanding customer preferences and trends is critical for XYZ to tailor their products, marketing strategies, and overall customer experience. This dataset captures a wide range of customer attributes including age, gender, purchase history, preferred payment methods, frequency of purchases, and more. Analyzing this data can help businesses make informed decisions, optimize product offerings, and enhance customer satisfaction. The dataset stands as a valuable resource for XYZ aiming to align their strategies with customer needs and preferences. Additionally, data on the type of items purchased, shopping frequency, preferred shopping seasons, and interactions with promotional offers is included. With a collection of 3900 records, this dataset serves as a foundation for businesses looking to apply data-driven insights for better decision-making and customer-centric strategies. \n",
    "The dataset will be provided during the start of the exam.\n"
   ]
  },
  {
   "cell_type": "markdown",
   "id": "52f139fc",
   "metadata": {},
   "source": [
    "### Data Dictionary"
   ]
  },
  {
   "cell_type": "markdown",
   "id": "b6e09bda",
   "metadata": {
    "papermill": {
     "duration": 0.025588,
     "end_time": "2023-11-04T12:15:43.061926",
     "exception": false,
     "start_time": "2023-11-04T12:15:43.036338",
     "status": "completed"
    },
    "tags": []
   },
   "source": [
    "1. Customer ID - Unique identifier for each customer.\n",
    "2. Age - Age of the customer.\n",
    "3. Gender - Gender of the customer (Male/Female).\n",
    "4. Item Purchased - The item purchased by the customer.\n",
    "5. Category - Category of the item purchased.\n",
    "6. Purchase Amount (USD) - The amount of the purchase in USD.\n",
    "7. Location - Location where the purchase was made.\n",
    "8. Size - Size of the purchased item.\n",
    "9. Color - Color of the purchased item.\n",
    "10. Season - Season during which the purchase was made.\n",
    "11. Review Rating - Rating given by the customer for the purchased item.\n",
    "12. Subscription Status - Indicates if the customer has a subscription (Yes/No).\n",
    "13. Shipping Type - Type of shipping chosen by the customer.\n",
    "14. Discount Applied - Indicates if a discount was applied to the purchase (Yes/No).\n",
    "15. Promo Code Used - Indicates if a promo code was used for the purchase (Yes/No).\n",
    "16. Previous Purchases - Number of previous purchases made by the customer.\n",
    "17. Payment Method - Customer's most preferred payment method.\n",
    "18. Frequency of Purchases - Frequency at which the customer makes purchases (e.g., Weekly, Fortnightly, Monthly)."
   ]
  },
  {
   "cell_type": "markdown",
   "id": "42dbf14a",
   "metadata": {
    "papermill": {
     "duration": 0.025145,
     "end_time": "2023-11-04T12:15:43.112710",
     "exception": false,
     "start_time": "2023-11-04T12:15:43.087565",
     "status": "completed"
    },
    "tags": []
   },
   "source": [
    "<div style=\"padding:10px;\n",
    "            color:#E55604;\n",
    "            margin:10px;\n",
    "            font-size:130%;\n",
    "            display:fill;\n",
    "            border-radius:5px;\n",
    "            border-style: solid;\n",
    "            border-color: #FF9B50;\n",
    "            background-color:#000000;\n",
    "            overflow:hidden;\n",
    "            font-weight:400\"><b>Importing Libraries</b>\n",
    "</div>"
   ]
  },
  {
   "cell_type": "code",
   "execution_count": 1,
   "id": "4d26c1fb",
   "metadata": {
    "execution": {
     "iopub.execute_input": "2023-11-04T12:15:43.166189Z",
     "iopub.status.busy": "2023-11-04T12:15:43.165580Z",
     "iopub.status.idle": "2023-11-04T12:15:44.869290Z",
     "shell.execute_reply": "2023-11-04T12:15:44.867723Z"
    },
    "papermill": {
     "duration": 1.732175,
     "end_time": "2023-11-04T12:15:44.871714",
     "exception": false,
     "start_time": "2023-11-04T12:15:43.139539",
     "status": "completed"
    },
    "tags": []
   },
   "outputs": [],
   "source": [
    "import pandas as pd\n",
    "import numpy as np\n",
    "import matplotlib.pyplot as plt\n",
    "import seaborn as sns\n",
    "import math"
   ]
  },
  {
   "cell_type": "markdown",
   "id": "17c1e45b",
   "metadata": {
    "papermill": {
     "duration": 0.02353,
     "end_time": "2023-11-04T12:15:44.920371",
     "exception": false,
     "start_time": "2023-11-04T12:15:44.896841",
     "status": "completed"
    },
    "tags": []
   },
   "source": [
    "<div style=\"padding:10px;\n",
    "            color:#E55604;\n",
    "            margin:10px;\n",
    "            font-size:130%;\n",
    "            display:fill;\n",
    "            border-radius:5px;\n",
    "            border-style: solid;\n",
    "            border-color: #FF9B50;\n",
    "            background-color:#000000;\n",
    "            overflow:hidden;\n",
    "            font-weight:400\"><b>Load the Dataset</b>\n",
    "</div>"
   ]
  },
  {
   "cell_type": "code",
   "execution_count": 2,
   "id": "b0c5a2ca",
   "metadata": {
    "execution": {
     "iopub.execute_input": "2023-11-04T12:15:44.970276Z",
     "iopub.status.busy": "2023-11-04T12:15:44.969702Z",
     "iopub.status.idle": "2023-11-04T12:15:45.035610Z",
     "shell.execute_reply": "2023-11-04T12:15:45.034015Z"
    },
    "papermill": {
     "duration": 0.093165,
     "end_time": "2023-11-04T12:15:45.037398",
     "exception": false,
     "start_time": "2023-11-04T12:15:44.944233",
     "status": "completed"
    },
    "tags": []
   },
   "outputs": [],
   "source": [
    "data = pd.read_csv('shopping.csv')"
   ]
  },
  {
   "cell_type": "markdown",
   "id": "a974a86c",
   "metadata": {},
   "source": [
    "### Exercise 1: Provide background information on the data set provided following the questions below\t(2 marks)\n",
    "- a) Determine the number of rows and columns in the Dataset\n",
    "- b) Provide some Information about the Dataset\n",
    "- c) Check if there are any null values present in the dataset or not?\n",
    "- d) Check if there are any duplicate values present in the dataset or not?\n"
   ]
  },
  {
   "cell_type": "markdown",
   "id": "5f6cee2c",
   "metadata": {
    "papermill": {
     "duration": 0.0244,
     "end_time": "2023-11-04T12:15:45.087301",
     "exception": false,
     "start_time": "2023-11-04T12:15:45.062901",
     "status": "completed"
    },
    "tags": []
   },
   "source": [
    "<div style=\"padding:10px;\n",
    "            color:#E55604;\n",
    "            margin:10px;\n",
    "            font-size:130%;\n",
    "            display:fill;\n",
    "            border-radius:5px;\n",
    "            border-style: solid;\n",
    "            border-color: #FF9B50;\n",
    "            background-color:#000000;\n",
    "            overflow:hidden;\n",
    "            font-weight:400\"><b>Check the shape of the Dataset</b>\n",
    "</div>"
   ]
  },
  {
   "cell_type": "code",
   "execution_count": null,
   "id": "47f85482",
   "metadata": {
    "execution": {
     "iopub.execute_input": "2023-11-04T12:15:45.139793Z",
     "iopub.status.busy": "2023-11-04T12:15:45.138371Z",
     "iopub.status.idle": "2023-11-04T12:15:45.144799Z",
     "shell.execute_reply": "2023-11-04T12:15:45.144114Z"
    },
    "papermill": {
     "duration": 0.034576,
     "end_time": "2023-11-04T12:15:45.146462",
     "exception": false,
     "start_time": "2023-11-04T12:15:45.111886",
     "status": "completed"
    },
    "tags": []
   },
   "outputs": [
    {
     "name": "stdout",
     "output_type": "stream",
     "text": [
      "3900 rows\n"
     ]
    }
   ],
   "source": [
    "print(f'{data.shape[0]} rows')"
   ]
  },
  {
   "cell_type": "markdown",
   "id": "2a9c1c16",
   "metadata": {
    "papermill": {
     "duration": 0.026398,
     "end_time": "2023-11-04T12:15:45.200438",
     "exception": false,
     "start_time": "2023-11-04T12:15:45.174040",
     "status": "completed"
    },
    "tags": []
   },
   "source": [
    "<div style=\"padding:10px;\n",
    "            color:#E55604;\n",
    "            margin:10px;\n",
    "            font-size:130%;\n",
    "            display:fill;\n",
    "            border-radius:5px;\n",
    "            border-style: solid;\n",
    "            border-color: #FF9B50;\n",
    "            background-color:#000000;\n",
    "            overflow:hidden;\n",
    "            font-weight:400\"><b>Checking the number of Columns in the Dataset</b>\n",
    "</div>"
   ]
  },
  {
   "cell_type": "code",
   "execution_count": 5,
   "id": "fb37cff7",
   "metadata": {
    "execution": {
     "iopub.execute_input": "2023-11-04T12:15:45.254057Z",
     "iopub.status.busy": "2023-11-04T12:15:45.253680Z",
     "iopub.status.idle": "2023-11-04T12:15:45.260104Z",
     "shell.execute_reply": "2023-11-04T12:15:45.259193Z"
    },
    "papermill": {
     "duration": 0.03654,
     "end_time": "2023-11-04T12:15:45.262864",
     "exception": false,
     "start_time": "2023-11-04T12:15:45.226324",
     "status": "completed"
    },
    "tags": []
   },
   "outputs": [
    {
     "name": "stdout",
     "output_type": "stream",
     "text": [
      "18 columns\n"
     ]
    }
   ],
   "source": [
    "print(f'{data.shape[1]} columns')"
   ]
  },
  {
   "cell_type": "markdown",
   "id": "5f955f74",
   "metadata": {
    "papermill": {
     "duration": 0.024653,
     "end_time": "2023-11-04T12:15:45.313623",
     "exception": false,
     "start_time": "2023-11-04T12:15:45.288970",
     "status": "completed"
    },
    "tags": []
   },
   "source": [
    "<div style=\"padding:10px;\n",
    "            color:#E55604;\n",
    "            margin:10px;\n",
    "            font-size:130%;\n",
    "            display:fill;\n",
    "            border-radius:5px;\n",
    "            border-style: solid;\n",
    "            border-color: #FF9B50;\n",
    "            background-color:#000000;\n",
    "            overflow:hidden;\n",
    "            font-weight:400\"><b>Information about the Dataset</b>\n",
    "</div>"
   ]
  },
  {
   "cell_type": "code",
   "execution_count": 8,
   "id": "35bd3b88",
   "metadata": {
    "execution": {
     "iopub.execute_input": "2023-11-04T12:15:45.364805Z",
     "iopub.status.busy": "2023-11-04T12:15:45.364467Z",
     "iopub.status.idle": "2023-11-04T12:15:45.390066Z",
     "shell.execute_reply": "2023-11-04T12:15:45.388058Z"
    },
    "papermill": {
     "duration": 0.053989,
     "end_time": "2023-11-04T12:15:45.392025",
     "exception": false,
     "start_time": "2023-11-04T12:15:45.338036",
     "status": "completed"
    },
    "tags": []
   },
   "outputs": [
    {
     "name": "stdout",
     "output_type": "stream",
     "text": [
      "<class 'pandas.core.frame.DataFrame'>\n",
      "RangeIndex: 3900 entries, 0 to 3899\n",
      "Data columns (total 18 columns):\n",
      " #   Column                  Non-Null Count  Dtype  \n",
      "---  ------                  --------------  -----  \n",
      " 0   Customer ID             3900 non-null   int64  \n",
      " 1   Age                     3900 non-null   int64  \n",
      " 2   Gender                  3900 non-null   object \n",
      " 3   Item Purchased          3900 non-null   object \n",
      " 4   Category                3900 non-null   object \n",
      " 5   Purchase Amount (USD)   3900 non-null   int64  \n",
      " 6   Location                3900 non-null   object \n",
      " 7   Size                    3900 non-null   object \n",
      " 8   Color                   3900 non-null   object \n",
      " 9   Season                  3900 non-null   object \n",
      " 10  Review Rating           3900 non-null   float64\n",
      " 11  Subscription Status     3900 non-null   object \n",
      " 12  Shipping Type           3900 non-null   object \n",
      " 13  Discount Applied        3900 non-null   object \n",
      " 14  Promo Code Used         3900 non-null   object \n",
      " 15  Previous Purchases      3900 non-null   int64  \n",
      " 16  Payment Method          3900 non-null   object \n",
      " 17  Frequency of Purchases  3900 non-null   object \n",
      "dtypes: float64(1), int64(4), object(13)\n",
      "memory usage: 548.6+ KB\n"
     ]
    }
   ],
   "source": [
    "data.info()"
   ]
  },
  {
   "cell_type": "code",
   "execution_count": null,
   "id": "7ad58db6",
   "metadata": {
    "execution": {
     "iopub.execute_input": "2023-11-04T12:15:45.444522Z",
     "iopub.status.busy": "2023-11-04T12:15:45.443561Z",
     "iopub.status.idle": "2023-11-04T12:15:45.465490Z",
     "shell.execute_reply": "2023-11-04T12:15:45.464744Z"
    },
    "papermill": {
     "duration": 0.049906,
     "end_time": "2023-11-04T12:15:45.467069",
     "exception": false,
     "start_time": "2023-11-04T12:15:45.417163",
     "status": "completed"
    },
    "tags": []
   },
   "outputs": [],
   "source": []
  },
  {
   "cell_type": "markdown",
   "id": "e043d70e",
   "metadata": {
    "papermill": {
     "duration": 0.024556,
     "end_time": "2023-11-04T12:15:45.517107",
     "exception": false,
     "start_time": "2023-11-04T12:15:45.492551",
     "status": "completed"
    },
    "tags": []
   },
   "source": [
    "<div style=\"padding:10px;\n",
    "            color:#E55604;\n",
    "            margin:10px;\n",
    "            font-size:130%;\n",
    "            display:fill;\n",
    "            border-radius:5px;\n",
    "            border-style: solid;\n",
    "            border-color: #FF9B50;\n",
    "            background-color:#000000;\n",
    "            overflow:hidden;\n",
    "            font-weight:400\"><b>Checking if there are any null values present in the dataset or not ?</b>\n",
    "</div>"
   ]
  },
  {
   "cell_type": "code",
   "execution_count": 9,
   "id": "d89e65ef",
   "metadata": {
    "execution": {
     "iopub.execute_input": "2023-11-04T12:15:45.568854Z",
     "iopub.status.busy": "2023-11-04T12:15:45.567679Z",
     "iopub.status.idle": "2023-11-04T12:15:45.577331Z",
     "shell.execute_reply": "2023-11-04T12:15:45.576431Z"
    },
    "papermill": {
     "duration": 0.038169,
     "end_time": "2023-11-04T12:15:45.579764",
     "exception": false,
     "start_time": "2023-11-04T12:15:45.541595",
     "status": "completed"
    },
    "tags": []
   },
   "outputs": [
    {
     "data": {
      "text/plain": [
       "Customer ID               False\n",
       "Age                       False\n",
       "Gender                    False\n",
       "Item Purchased            False\n",
       "Category                  False\n",
       "Purchase Amount (USD)     False\n",
       "Location                  False\n",
       "Size                      False\n",
       "Color                     False\n",
       "Season                    False\n",
       "Review Rating             False\n",
       "Subscription Status       False\n",
       "Shipping Type             False\n",
       "Discount Applied          False\n",
       "Promo Code Used           False\n",
       "Previous Purchases        False\n",
       "Payment Method            False\n",
       "Frequency of Purchases    False\n",
       "dtype: bool"
      ]
     },
     "execution_count": 9,
     "metadata": {},
     "output_type": "execute_result"
    }
   ],
   "source": [
    "data.isnull().any()"
   ]
  },
  {
   "cell_type": "markdown",
   "id": "327b6e9b",
   "metadata": {
    "papermill": {
     "duration": 0.027956,
     "end_time": "2023-11-04T12:15:45.634520",
     "exception": false,
     "start_time": "2023-11-04T12:15:45.606564",
     "status": "completed"
    },
    "tags": []
   },
   "source": [
    "<div style=\"padding:10px;\n",
    "            color:#E55604;\n",
    "            margin:10px;\n",
    "            font-size:130%;\n",
    "            display:fill;\n",
    "            border-radius:5px;\n",
    "            border-style: solid;\n",
    "            border-color: #FF9B50;\n",
    "            background-color:#000000;\n",
    "            overflow:hidden;\n",
    "            font-weight:400\"><b>Checking if there are any duplicate values present in the dataset or not ?</b>\n",
    "</div>"
   ]
  },
  {
   "cell_type": "code",
   "execution_count": 13,
   "id": "f58a5f42",
   "metadata": {
    "execution": {
     "iopub.execute_input": "2023-11-04T12:15:45.688793Z",
     "iopub.status.busy": "2023-11-04T12:15:45.688392Z",
     "iopub.status.idle": "2023-11-04T12:15:45.704409Z",
     "shell.execute_reply": "2023-11-04T12:15:45.703564Z"
    },
    "papermill": {
     "duration": 0.04553,
     "end_time": "2023-11-04T12:15:45.706472",
     "exception": false,
     "start_time": "2023-11-04T12:15:45.660942",
     "status": "completed"
    },
    "tags": []
   },
   "outputs": [
    {
     "name": "stdout",
     "output_type": "stream",
     "text": [
      "There are 0 duplicated rows\n"
     ]
    }
   ],
   "source": [
    "print(f'There are {data.duplicated().sum()} duplicated rows')"
   ]
  },
  {
   "cell_type": "markdown",
   "id": "79255434",
   "metadata": {},
   "source": [
    "### Exercise 2: Perform the following operations\t\t\t\t(5 marks)\n",
    "- a) Determine the number of items purchased per a given category of the items. \n",
    "- b) What are the various sizes of fashion clothing sold and locations from where clients purchase from? \n",
    "- c) Determine the number of people who have and haven’t subscribed? Also determine their preferred method of payment. \n",
    "- d) How frequent are purchases made? \n"
   ]
  },
  {
   "cell_type": "code",
   "execution_count": 14,
   "id": "d2b4b996",
   "metadata": {
    "execution": {
     "iopub.execute_input": "2023-11-04T12:15:46.810717Z",
     "iopub.status.busy": "2023-11-04T12:15:46.810312Z",
     "iopub.status.idle": "2023-11-04T12:15:46.819094Z",
     "shell.execute_reply": "2023-11-04T12:15:46.817987Z"
    },
    "papermill": {
     "duration": 0.040857,
     "end_time": "2023-11-04T12:15:46.821431",
     "exception": false,
     "start_time": "2023-11-04T12:15:46.780574",
     "status": "completed"
    },
    "tags": []
   },
   "outputs": [
    {
     "data": {
      "text/plain": [
       "Category\n",
       "Accessories    1240\n",
       "Clothing       1737\n",
       "Footwear        599\n",
       "Outerwear       324\n",
       "Name: Item Purchased, dtype: int64"
      ]
     },
     "execution_count": 14,
     "metadata": {},
     "output_type": "execute_result"
    }
   ],
   "source": [
    "# a)\n",
    "nb_items = data.groupby('Category')['Item Purchased'].count()\n",
    "nb_items"
   ]
  },
  {
   "cell_type": "code",
   "execution_count": 4,
   "id": "bcc46b69",
   "metadata": {
    "execution": {
     "iopub.execute_input": "2023-11-04T12:15:47.435180Z",
     "iopub.status.busy": "2023-11-04T12:15:47.434144Z",
     "iopub.status.idle": "2023-11-04T12:15:47.444536Z",
     "shell.execute_reply": "2023-11-04T12:15:47.443592Z"
    },
    "papermill": {
     "duration": 0.041602,
     "end_time": "2023-11-04T12:15:47.446287",
     "exception": false,
     "start_time": "2023-11-04T12:15:47.404685",
     "status": "completed"
    },
    "tags": []
   },
   "outputs": [
    {
     "name": "stdout",
     "output_type": "stream",
     "text": [
      "Sizes:\n",
      "('L',)\n",
      "('M',)\n",
      "('S',)\n",
      "('XL',)\n",
      "\n",
      "Locations:\n",
      "('Alabama',)\n",
      "('Alaska',)\n",
      "('Arizona',)\n",
      "('Arkansas',)\n",
      "('California',)\n",
      "('Colorado',)\n",
      "('Connecticut',)\n",
      "('Delaware',)\n",
      "('Florida',)\n",
      "('Georgia',)\n",
      "('Hawaii',)\n",
      "('Idaho',)\n",
      "('Illinois',)\n",
      "('Indiana',)\n",
      "('Iowa',)\n",
      "('Kansas',)\n",
      "('Kentucky',)\n",
      "('Louisiana',)\n",
      "('Maine',)\n",
      "('Maryland',)\n",
      "('Massachusetts',)\n",
      "('Michigan',)\n",
      "('Minnesota',)\n",
      "('Mississippi',)\n",
      "('Missouri',)\n",
      "('Montana',)\n",
      "('Nebraska',)\n",
      "('Nevada',)\n",
      "('New Hampshire',)\n",
      "('New Jersey',)\n",
      "('New Mexico',)\n",
      "('New York',)\n",
      "('North Carolina',)\n",
      "('North Dakota',)\n",
      "('Ohio',)\n",
      "('Oklahoma',)\n",
      "('Oregon',)\n",
      "('Pennsylvania',)\n",
      "('Rhode Island',)\n",
      "('South Carolina',)\n",
      "('South Dakota',)\n",
      "('Tennessee',)\n",
      "('Texas',)\n",
      "('Utah',)\n",
      "('Vermont',)\n",
      "('Virginia',)\n",
      "('Washington',)\n",
      "('West Virginia',)\n",
      "('Wisconsin',)\n",
      "('Wyoming',)\n"
     ]
    }
   ],
   "source": [
    "# b)\n",
    "\n",
    "sizes = data.groupby(['Size'])['Location']\n",
    "print('Sizes:')\n",
    "for value, row in sizes:\n",
    "    print(value)\n",
    "\n",
    "print('\\nLocations:')\n",
    "sizes = data.groupby(['Location'])['Size']\n",
    "for value, row in sizes:\n",
    "    print(value)\n",
    "    "
   ]
  },
  {
   "cell_type": "code",
   "execution_count": 22,
   "id": "3a9351f6",
   "metadata": {
    "execution": {
     "iopub.execute_input": "2023-11-04T12:15:48.007947Z",
     "iopub.status.busy": "2023-11-04T12:15:48.007068Z",
     "iopub.status.idle": "2023-11-04T12:15:48.015660Z",
     "shell.execute_reply": "2023-11-04T12:15:48.014678Z"
    },
    "papermill": {
     "duration": 0.041099,
     "end_time": "2023-11-04T12:15:48.017190",
     "exception": false,
     "start_time": "2023-11-04T12:15:47.976091",
     "status": "completed"
    },
    "tags": []
   },
   "outputs": [
    {
     "name": "stdout",
     "output_type": "stream",
     "text": [
      "2847 persons have subscribed\n",
      "1053 persons have not subscribed\n"
     ]
    }
   ],
   "source": [
    "# c)\n",
    "\n",
    "sub_status = data['Subscription Status'].value_counts()\n",
    "sub_status_dict = sub_status.to_dict()\n",
    "print(f'{sub_status_dict['No']} persons have subscribed') \n",
    "print(f'{sub_status_dict['Yes']} persons have not subscribed') "
   ]
  },
  {
   "cell_type": "code",
   "execution_count": 23,
   "id": "9ec3f957",
   "metadata": {
    "execution": {
     "iopub.execute_input": "2023-11-04T12:15:50.182003Z",
     "iopub.status.busy": "2023-11-04T12:15:50.181407Z",
     "iopub.status.idle": "2023-11-04T12:15:50.189836Z",
     "shell.execute_reply": "2023-11-04T12:15:50.188814Z"
    },
    "papermill": {
     "duration": 0.047302,
     "end_time": "2023-11-04T12:15:50.191807",
     "exception": false,
     "start_time": "2023-11-04T12:15:50.144505",
     "status": "completed"
    },
    "tags": []
   },
   "outputs": [
    {
     "data": {
      "text/plain": [
       "Payment Method\n",
       "PayPal           677\n",
       "Credit Card      671\n",
       "Cash             670\n",
       "Debit Card       636\n",
       "Venmo            634\n",
       "Bank Transfer    612\n",
       "Name: count, dtype: int64"
      ]
     },
     "execution_count": 23,
     "metadata": {},
     "output_type": "execute_result"
    }
   ],
   "source": [
    "payment_method = data['Payment Method'].value_counts()\n",
    "payment_method"
   ]
  },
  {
   "cell_type": "code",
   "execution_count": 24,
   "id": "5a52a307",
   "metadata": {
    "execution": {
     "iopub.execute_input": "2023-11-04T12:15:50.958513Z",
     "iopub.status.busy": "2023-11-04T12:15:50.957816Z",
     "iopub.status.idle": "2023-11-04T12:15:50.966549Z",
     "shell.execute_reply": "2023-11-04T12:15:50.965481Z"
    },
    "papermill": {
     "duration": 0.049573,
     "end_time": "2023-11-04T12:15:50.969235",
     "exception": false,
     "start_time": "2023-11-04T12:15:50.919662",
     "status": "completed"
    },
    "tags": []
   },
   "outputs": [
    {
     "data": {
      "text/plain": [
       "Frequency of Purchases\n",
       "Every 3 Months    584\n",
       "Annually          572\n",
       "Quarterly         563\n",
       "Monthly           553\n",
       "Bi-Weekly         547\n",
       "Fortnightly       542\n",
       "Weekly            539\n",
       "Name: count, dtype: int64"
      ]
     },
     "execution_count": 24,
     "metadata": {},
     "output_type": "execute_result"
    }
   ],
   "source": [
    "# d)\n",
    "frequency = data['Frequency of Purchases'].value_counts()\n",
    "frequency"
   ]
  },
  {
   "cell_type": "code",
   "execution_count": null,
   "id": "f9e048ab",
   "metadata": {
    "execution": {
     "iopub.execute_input": "2023-11-04T12:15:53.614734Z",
     "iopub.status.busy": "2023-11-04T12:15:53.614311Z",
     "iopub.status.idle": "2023-11-04T12:15:53.623782Z",
     "shell.execute_reply": "2023-11-04T12:15:53.623151Z"
    },
    "papermill": {
     "duration": 0.053128,
     "end_time": "2023-11-04T12:15:53.625420",
     "exception": false,
     "start_time": "2023-11-04T12:15:53.572292",
     "status": "completed"
    },
    "tags": []
   },
   "outputs": [],
   "source": []
  },
  {
   "cell_type": "markdown",
   "id": "d4305292",
   "metadata": {},
   "source": [
    "### Exercise 3: Perform the following Data exploration tasks. \t\t(7 marks)\n",
    "- a)\tWhat is the average age of customers in the dataset?\n",
    "- b)\tWhat is the most common item purchased?\n",
    "- c)\tWhat is the total purchase amount for each category?\n",
    "- d)\tWhat is the average review rating for male customers and female customers separately?\n",
    "- e)\tWhat is the most common payment method used by customers?\n",
    "- f)\tWhat is the median purchase amount (USD)?\n",
    "- g)\tHow many customers have opted for the Subscription?\n"
   ]
  },
  {
   "cell_type": "markdown",
   "id": "480e4ac6",
   "metadata": {
    "papermill": {
     "duration": 0.041839,
     "end_time": "2023-11-04T12:15:54.422346",
     "exception": false,
     "start_time": "2023-11-04T12:15:54.380507",
     "status": "completed"
    },
    "tags": []
   },
   "source": [
    "<div style=\"padding:10px;\n",
    "            color:#E55604;\n",
    "            margin:10px;\n",
    "            font-size:130%;\n",
    "            display:fill;\n",
    "            border-radius:5px;\n",
    "            border-style: solid;\n",
    "            border-color: #FF9B50;\n",
    "            background-color:#000000;\n",
    "            overflow:hidden;\n",
    "            font-weight:400\"><b>What is the average age of customers in the dataset ?</b>\n",
    "</div>"
   ]
  },
  {
   "cell_type": "code",
   "execution_count": null,
   "id": "b44e451e",
   "metadata": {},
   "outputs": [
    {
     "name": "stdout",
     "output_type": "stream",
     "text": [
      "The average age of customers is: 44\n"
     ]
    }
   ],
   "source": [
    "# a)\n",
    "\n",
    "av_age = data['Age'].mean()\n",
    "print(f'The average age of customers is: {math.trunc(av_age)}')"
   ]
  },
  {
   "cell_type": "markdown",
   "id": "9630f045",
   "metadata": {
    "papermill": {
     "duration": 0.043438,
     "end_time": "2023-11-04T12:15:54.607260",
     "exception": false,
     "start_time": "2023-11-04T12:15:54.563822",
     "status": "completed"
    },
    "tags": []
   },
   "source": [
    "<div style=\"padding:10px;\n",
    "            color:#E55604;\n",
    "            margin:10px;\n",
    "            font-size:130%;\n",
    "            display:fill;\n",
    "            border-radius:5px;\n",
    "            border-style: solid;\n",
    "            border-color: #FF9B50;\n",
    "            background-color:#000000;\n",
    "            overflow:hidden;\n",
    "            font-weight:400\"><b>What is the most common item purchased ?</b>\n",
    "</div>"
   ]
  },
  {
   "cell_type": "code",
   "execution_count": null,
   "id": "fd7fc25b",
   "metadata": {
    "execution": {
     "iopub.execute_input": "2023-11-04T12:15:54.698264Z",
     "iopub.status.busy": "2023-11-04T12:15:54.697867Z",
     "iopub.status.idle": "2023-11-04T12:15:54.703629Z",
     "shell.execute_reply": "2023-11-04T12:15:54.702366Z"
    },
    "papermill": {
     "duration": 0.055392,
     "end_time": "2023-11-04T12:15:54.705880",
     "exception": false,
     "start_time": "2023-11-04T12:15:54.650488",
     "status": "completed"
    },
    "tags": []
   },
   "outputs": [
    {
     "data": {
      "text/plain": [
       "Item Purchased\n",
       "Blouse    171\n",
       "Name: count, dtype: int64"
      ]
     },
     "execution_count": 8,
     "metadata": {},
     "output_type": "execute_result"
    }
   ],
   "source": [
    "# b)\n",
    "\n",
    "item_purcahased = data['Item Purchased'].value_counts()\n",
    "item_purcahased.nlargest(1)"
   ]
  },
  {
   "cell_type": "markdown",
   "id": "4d272de8",
   "metadata": {
    "papermill": {
     "duration": 0.043033,
     "end_time": "2023-11-04T12:15:54.792416",
     "exception": false,
     "start_time": "2023-11-04T12:15:54.749383",
     "status": "completed"
    },
    "tags": []
   },
   "source": [
    "<div style=\"padding:10px;\n",
    "            color:#E55604;\n",
    "            margin:10px;\n",
    "            font-size:130%;\n",
    "            display:fill;\n",
    "            border-radius:5px;\n",
    "            border-style: solid;\n",
    "            border-color: #FF9B50;\n",
    "            background-color:#000000;\n",
    "            overflow:hidden;\n",
    "            font-weight:400\"><b>What is the total purchase amount for each category ?</b>\n",
    "</div>"
   ]
  },
  {
   "cell_type": "code",
   "execution_count": null,
   "id": "b4151fc3",
   "metadata": {
    "execution": {
     "iopub.execute_input": "2023-11-04T12:15:54.881650Z",
     "iopub.status.busy": "2023-11-04T12:15:54.881241Z",
     "iopub.status.idle": "2023-11-04T12:15:54.890514Z",
     "shell.execute_reply": "2023-11-04T12:15:54.888582Z"
    },
    "papermill": {
     "duration": 0.057163,
     "end_time": "2023-11-04T12:15:54.893095",
     "exception": false,
     "start_time": "2023-11-04T12:15:54.835932",
     "status": "completed"
    },
    "tags": []
   },
   "outputs": [
    {
     "name": "stdout",
     "output_type": "stream",
     "text": [
      "Category       Amount\n",
      "Accessories:    74200\n",
      "Clothing:    104264\n",
      "Footwear:    36093\n",
      "Outerwear:    18524\n"
     ]
    }
   ],
   "source": [
    "# c)\n",
    "\n",
    "purchase_amnt = data.groupby('Category')['Purchase Amount (USD)'].sum()\n",
    "print('Category       Amount')\n",
    "for category, amount in purchase_amnt.items():\n",
    "    print(f'{category}:    {amount}')"
   ]
  },
  {
   "cell_type": "markdown",
   "id": "6dbf1fa6",
   "metadata": {
    "papermill": {
     "duration": 0.043673,
     "end_time": "2023-11-04T12:15:54.981540",
     "exception": false,
     "start_time": "2023-11-04T12:15:54.937867",
     "status": "completed"
    },
    "tags": []
   },
   "source": [
    "<div style=\"padding:10px;\n",
    "            color:#E55604;\n",
    "            margin:10px;\n",
    "            font-size:130%;\n",
    "            display:fill;\n",
    "            border-radius:5px;\n",
    "            border-style: solid;\n",
    "            border-color: #FF9B50;\n",
    "            background-color:#000000;\n",
    "            overflow:hidden;\n",
    "            font-weight:400\"><b>What is the average review rating for male customers and female customers separately ?</b>\n",
    "</div>"
   ]
  },
  {
   "cell_type": "code",
   "execution_count": null,
   "id": "dd165b5d",
   "metadata": {
    "execution": {
     "iopub.execute_input": "2023-11-04T12:15:55.071038Z",
     "iopub.status.busy": "2023-11-04T12:15:55.070626Z",
     "iopub.status.idle": "2023-11-04T12:15:55.079808Z",
     "shell.execute_reply": "2023-11-04T12:15:55.079158Z"
    },
    "papermill": {
     "duration": 0.057116,
     "end_time": "2023-11-04T12:15:55.081762",
     "exception": false,
     "start_time": "2023-11-04T12:15:55.024646",
     "status": "completed"
    },
    "tags": []
   },
   "outputs": [
    {
     "data": {
      "text/plain": [
       "Gender\n",
       "Female    3.741426\n",
       "Male      3.753959\n",
       "Name: Review Rating, dtype: float64"
      ]
     },
     "execution_count": 13,
     "metadata": {},
     "output_type": "execute_result"
    }
   ],
   "source": [
    "# d)\n",
    "\n",
    "review_rating = data.groupby('Gender')['Review Rating'].mean()\n",
    "review_rating"
   ]
  },
  {
   "cell_type": "markdown",
   "id": "caee4705",
   "metadata": {
    "papermill": {
     "duration": 0.042029,
     "end_time": "2023-11-04T12:15:55.170931",
     "exception": false,
     "start_time": "2023-11-04T12:15:55.128902",
     "status": "completed"
    },
    "tags": []
   },
   "source": [
    "<div style=\"padding:10px;\n",
    "            color:#E55604;\n",
    "            margin:10px;\n",
    "            font-size:130%;\n",
    "            display:fill;\n",
    "            border-radius:5px;\n",
    "            border-style: solid;\n",
    "            border-color: #FF9B50;\n",
    "            background-color:#000000;\n",
    "            overflow:hidden;\n",
    "            font-weight:400\"><b>What is the most common payment method used by customers ?</b>\n",
    "</div>"
   ]
  },
  {
   "cell_type": "code",
   "execution_count": null,
   "id": "0c28f723",
   "metadata": {
    "execution": {
     "iopub.execute_input": "2023-11-04T12:15:55.260026Z",
     "iopub.status.busy": "2023-11-04T12:15:55.259261Z",
     "iopub.status.idle": "2023-11-04T12:15:55.265794Z",
     "shell.execute_reply": "2023-11-04T12:15:55.264186Z"
    },
    "papermill": {
     "duration": 0.052864,
     "end_time": "2023-11-04T12:15:55.267716",
     "exception": false,
     "start_time": "2023-11-04T12:15:55.214852",
     "status": "completed"
    },
    "tags": []
   },
   "outputs": [
    {
     "data": {
      "text/plain": [
       "Payment Method\n",
       "PayPal    677\n",
       "Name: count, dtype: int64"
      ]
     },
     "execution_count": 14,
     "metadata": {},
     "output_type": "execute_result"
    }
   ],
   "source": [
    "# e)\n",
    "\n",
    "common_payment_method = data['Payment Method'].value_counts().nlargest(1)\n",
    "common_payment_method"
   ]
  },
  {
   "cell_type": "markdown",
   "id": "afb8c9f8",
   "metadata": {
    "papermill": {
     "duration": 0.043404,
     "end_time": "2023-11-04T12:15:55.355818",
     "exception": false,
     "start_time": "2023-11-04T12:15:55.312414",
     "status": "completed"
    },
    "tags": []
   },
   "source": [
    "<div style=\"padding:10px;\n",
    "            color:#E55604;\n",
    "            margin:10px;\n",
    "            font-size:130%;\n",
    "            display:fill;\n",
    "            border-radius:5px;\n",
    "            border-style: solid;\n",
    "            border-color: #FF9B50;\n",
    "            background-color:#000000;\n",
    "            overflow:hidden;\n",
    "            font-weight:400\"><b>What is the median purchase amount (USD) ?</b>\n",
    "</div>"
   ]
  },
  {
   "cell_type": "code",
   "execution_count": null,
   "id": "dbbf4d85",
   "metadata": {
    "execution": {
     "iopub.execute_input": "2023-11-04T12:15:55.444683Z",
     "iopub.status.busy": "2023-11-04T12:15:55.444292Z",
     "iopub.status.idle": "2023-11-04T12:15:55.449844Z",
     "shell.execute_reply": "2023-11-04T12:15:55.448885Z"
    },
    "papermill": {
     "duration": 0.052241,
     "end_time": "2023-11-04T12:15:55.451886",
     "exception": false,
     "start_time": "2023-11-04T12:15:55.399645",
     "status": "completed"
    },
    "tags": []
   },
   "outputs": [
    {
     "name": "stdout",
     "output_type": "stream",
     "text": [
      "Median purchase amount (USD): 60.0\n"
     ]
    }
   ],
   "source": [
    "# f)\n",
    "\n",
    "median_amount = data['Purchase Amount (USD)'].median()\n",
    "print(f'Median purchase amount (USD): {median_amount}')"
   ]
  },
  {
   "cell_type": "markdown",
   "id": "b36103d7",
   "metadata": {
    "papermill": {
     "duration": 0.043396,
     "end_time": "2023-11-04T12:15:55.538396",
     "exception": false,
     "start_time": "2023-11-04T12:15:55.495000",
     "status": "completed"
    },
    "tags": []
   },
   "source": [
    "<div style=\"padding:10px;\n",
    "            color:#E55604;\n",
    "            margin:10px;\n",
    "            font-size:130%;\n",
    "            display:fill;\n",
    "            border-radius:5px;\n",
    "            border-style: solid;\n",
    "            border-color: #FF9B50;\n",
    "            background-color:#000000;\n",
    "            overflow:hidden;\n",
    "            font-weight:400\"><b>How many customers have opted for the Subscription ?</b></div>"
   ]
  },
  {
   "cell_type": "code",
   "execution_count": null,
   "id": "4161b038",
   "metadata": {
    "execution": {
     "iopub.execute_input": "2023-11-04T12:15:55.628811Z",
     "iopub.status.busy": "2023-11-04T12:15:55.628448Z",
     "iopub.status.idle": "2023-11-04T12:15:55.636677Z",
     "shell.execute_reply": "2023-11-04T12:15:55.635413Z"
    },
    "papermill": {
     "duration": 0.056976,
     "end_time": "2023-11-04T12:15:55.638896",
     "exception": false,
     "start_time": "2023-11-04T12:15:55.581920",
     "status": "completed"
    },
    "tags": []
   },
   "outputs": [
    {
     "name": "stdout",
     "output_type": "stream",
     "text": [
      "2847 customers have subscribed\n"
     ]
    }
   ],
   "source": [
    "# g)\n",
    "\n",
    "sub_status = data['Subscription Status'].value_counts()\n",
    "sub_status_dict = sub_status.to_dict()\n",
    "print(f'{sub_status_dict['No']} customers have subscribed') "
   ]
  },
  {
   "cell_type": "markdown",
   "id": "78ebe633",
   "metadata": {},
   "source": [
    "### Exercise 4: (26 marks)\n",
    "- a)\tHow many customers have made more than 30 previous purchases?\n",
    "- b)\tHow many customers used a promo code for their purchase?\n",
    "- c)\tWhat is the average purchase amount for customers who used a discount?\n",
    "- d)\tWhat is the most common category of items purchased by female customers with a review rating below 3?\n",
    "- e)\tWhat is the average age of customers who made purchases with a review rating above 4 and used a promo code?\n",
    "- f)\tWhat is the total purchase amount for customers in each location?\n",
    "- g)\tWhat is the average purchase amount for customers who have a subscription and used Venmo as the payment method?\n",
    "- h)\tWhat is the frequency distribution of the 'Frequency of Purchases' column?\n",
    "- i)\tWhat is the average purchase amount for each color of items?\n"
   ]
  },
  {
   "cell_type": "markdown",
   "id": "33946761",
   "metadata": {
    "papermill": {
     "duration": 0.043171,
     "end_time": "2023-11-04T12:15:57.036751",
     "exception": false,
     "start_time": "2023-11-04T12:15:56.993580",
     "status": "completed"
    },
    "tags": []
   },
   "source": [
    "<div style=\"padding:10px;\n",
    "            color:#E55604;\n",
    "            margin:10px;\n",
    "            font-size:130%;\n",
    "            display:fill;\n",
    "            border-radius:5px;\n",
    "            border-style: solid;\n",
    "            border-color: #FF9B50;\n",
    "            background-color:#000000;\n",
    "            overflow:hidden;\n",
    "            font-weight:400\"><b>How many customers have made more than 30 previous purchases ?</b>\n",
    "</div>"
   ]
  },
  {
   "cell_type": "code",
   "execution_count": 37,
   "id": "b08de255",
   "metadata": {},
   "outputs": [
    {
     "name": "stdout",
     "output_type": "stream",
     "text": [
      "1549 customers have made more than 30 previous purchase\n"
     ]
    }
   ],
   "source": [
    "# a)\n",
    "prev_purchases = 0\n",
    "\n",
    "for x in data['Previous Purchases']:\n",
    "    if x > 30:\n",
    "        prev_purchases += 1\n",
    "\n",
    "print(f'{prev_purchases} customers have made more than 30 previous purchase')  \n"
   ]
  },
  {
   "cell_type": "markdown",
   "id": "835187dc",
   "metadata": {
    "papermill": {
     "duration": 0.04519,
     "end_time": "2023-11-04T12:15:56.477817",
     "exception": false,
     "start_time": "2023-11-04T12:15:56.432627",
     "status": "completed"
    },
    "tags": []
   },
   "source": [
    "<div style=\"padding:10px;\n",
    "            color:#E55604;\n",
    "            margin:10px;\n",
    "            font-size:130%;\n",
    "            display:fill;\n",
    "            border-radius:5px;\n",
    "            border-style: solid;\n",
    "            border-color: #FF9B50;\n",
    "            background-color:#000000;\n",
    "            overflow:hidden;\n",
    "            font-weight:400\"><b>How many customers used a promo code for their purchase ?</b></div>"
   ]
  },
  {
   "cell_type": "code",
   "execution_count": 26,
   "id": "59739075",
   "metadata": {
    "execution": {
     "iopub.execute_input": "2023-11-04T12:15:56.569522Z",
     "iopub.status.busy": "2023-11-04T12:15:56.569106Z",
     "iopub.status.idle": "2023-11-04T12:15:56.575827Z",
     "shell.execute_reply": "2023-11-04T12:15:56.575227Z"
    },
    "papermill": {
     "duration": 0.054696,
     "end_time": "2023-11-04T12:15:56.577684",
     "exception": false,
     "start_time": "2023-11-04T12:15:56.522988",
     "status": "completed"
    },
    "tags": []
   },
   "outputs": [
    {
     "name": "stdout",
     "output_type": "stream",
     "text": [
      "1677 customers used a promo code for their purchases\n"
     ]
    }
   ],
   "source": [
    "# b)\n",
    "\n",
    "promo_code = data['Promo Code Used'].value_counts()\n",
    "print(f'{promo_code['Yes']} customers used a promo code for their purchases')"
   ]
  },
  {
   "cell_type": "markdown",
   "id": "48890964",
   "metadata": {
    "papermill": {
     "duration": 0.043226,
     "end_time": "2023-11-04T12:15:57.787754",
     "exception": false,
     "start_time": "2023-11-04T12:15:57.744528",
     "status": "completed"
    },
    "tags": []
   },
   "source": [
    "<div style=\"padding:10px;\n",
    "            color:#E55604;\n",
    "            margin:10px;\n",
    "            font-size:130%;\n",
    "            display:fill;\n",
    "            border-radius:5px;\n",
    "            border-style: solid;\n",
    "            border-color: #FF9B50;\n",
    "            background-color:#000000;\n",
    "            overflow:hidden;\n",
    "            font-weight:400\"><b>What is the average purchase amount for customers who used a discount ?</b></div>"
   ]
  },
  {
   "cell_type": "code",
   "execution_count": null,
   "id": "0515fb2b",
   "metadata": {
    "execution": {
     "iopub.execute_input": "2023-11-04T12:15:57.878392Z",
     "iopub.status.busy": "2023-11-04T12:15:57.877614Z",
     "iopub.status.idle": "2023-11-04T12:15:57.884641Z",
     "shell.execute_reply": "2023-11-04T12:15:57.883611Z"
    },
    "papermill": {
     "duration": 0.054835,
     "end_time": "2023-11-04T12:15:57.886657",
     "exception": false,
     "start_time": "2023-11-04T12:15:57.831822",
     "status": "completed"
    },
    "tags": []
   },
   "outputs": [
    {
     "name": "stdout",
     "output_type": "stream",
     "text": [
      "Average purchase amount for customers who used a discount: 59.28\n"
     ]
    }
   ],
   "source": [
    "# c)\n",
    "\n",
    "av_amnt_disc = data.groupby('Discount Applied')['Purchase Amount (USD)'].mean()\n",
    "\n",
    "print(f'Average purchase amount for customers who used a discount: {av_amnt_disc[\"Yes\"].round(2)}')"
   ]
  },
  {
   "cell_type": "markdown",
   "id": "1397f588",
   "metadata": {
    "papermill": {
     "duration": 0.043847,
     "end_time": "2023-11-04T12:15:57.973360",
     "exception": false,
     "start_time": "2023-11-04T12:15:57.929513",
     "status": "completed"
    },
    "tags": []
   },
   "source": [
    "<div style=\"padding:10px;\n",
    "            color:#E55604;\n",
    "            margin:10px;\n",
    "            font-size:130%;\n",
    "            display:fill;\n",
    "            border-radius:5px;\n",
    "            border-style: solid;\n",
    "            border-color: #FF9B50;\n",
    "            background-color:#000000;\n",
    "            overflow:hidden;\n",
    "            font-weight:400\"><b>What is the most common category of items purchased by female customers with a review rating below 3 ?</b>\n",
    "</div>"
   ]
  },
  {
   "cell_type": "code",
   "execution_count": 9,
   "id": "58b91a19",
   "metadata": {
    "execution": {
     "iopub.execute_input": "2023-11-04T12:15:58.064839Z",
     "iopub.status.busy": "2023-11-04T12:15:58.064478Z",
     "iopub.status.idle": "2023-11-04T12:15:58.073950Z",
     "shell.execute_reply": "2023-11-04T12:15:58.072110Z"
    },
    "papermill": {
     "duration": 0.057461,
     "end_time": "2023-11-04T12:15:58.076751",
     "exception": false,
     "start_time": "2023-11-04T12:15:58.019290",
     "status": "completed"
    },
    "tags": []
   },
   "outputs": [
    {
     "name": "stdout",
     "output_type": "stream",
     "text": [
      "The most common category purchased by female customers with review rating less than 3 is: Clothing\n"
     ]
    }
   ],
   "source": [
    "# d)\n",
    "\n",
    "filter_data = data[(data['Gender'] == 'Female') & (data['Review Rating'] < 3)]\n",
    "common_female_category = filter_data['Category'].value_counts()\n",
    "common_female_category = common_female_category.idxmax()\n",
    "print(f'The most common category purchased by female customers with review rating less than 3 is: {common_female_category}')"
   ]
  },
  {
   "cell_type": "markdown",
   "id": "59056a6e",
   "metadata": {
    "papermill": {
     "duration": 0.047803,
     "end_time": "2023-11-04T12:15:58.172320",
     "exception": false,
     "start_time": "2023-11-04T12:15:58.124517",
     "status": "completed"
    },
    "tags": []
   },
   "source": [
    "<div style=\"padding:10px;\n",
    "            color:#E55604;\n",
    "            margin:10px;\n",
    "            font-size:130%;\n",
    "            display:fill;\n",
    "            border-radius:5px;\n",
    "            border-style: solid;\n",
    "            border-color: #FF9B50;\n",
    "            background-color:#000000;\n",
    "            overflow:hidden;\n",
    "            font-weight:400\"><b>What is the average age of customers who made purchases with a review rating above 4 and used a promo code?</b></div>"
   ]
  },
  {
   "cell_type": "code",
   "execution_count": 13,
   "id": "660a41ce",
   "metadata": {
    "execution": {
     "iopub.execute_input": "2023-11-04T12:15:58.268731Z",
     "iopub.status.busy": "2023-11-04T12:15:58.267847Z",
     "iopub.status.idle": "2023-11-04T12:15:58.276073Z",
     "shell.execute_reply": "2023-11-04T12:15:58.274611Z"
    },
    "papermill": {
     "duration": 0.060793,
     "end_time": "2023-11-04T12:15:58.277945",
     "exception": false,
     "start_time": "2023-11-04T12:15:58.217152",
     "status": "completed"
    },
    "tags": []
   },
   "outputs": [
    {
     "name": "stdout",
     "output_type": "stream",
     "text": [
      "The average age of customers with a review rating of more than 4 and used promo code is: 43\n"
     ]
    }
   ],
   "source": [
    "filter_df = data[(data['Promo Code Used'] == 'Yes') & (data['Review Rating'] > 4)]\n",
    "\n",
    "av_customer_age = filter_df['Age'].mean()\n",
    "\n",
    "print(f'The average age of customers with a review rating of more than 4 and used promo code is: {math.trunc(av_customer_age)}')"
   ]
  },
  {
   "cell_type": "markdown",
   "id": "95afbf1a",
   "metadata": {
    "papermill": {
     "duration": 0.045353,
     "end_time": "2023-11-04T12:15:58.369652",
     "exception": false,
     "start_time": "2023-11-04T12:15:58.324299",
     "status": "completed"
    },
    "tags": []
   },
   "source": [
    "<div style=\"padding:10px;\n",
    "            color:#E55604;\n",
    "            margin:10px;\n",
    "            font-size:130%;\n",
    "            display:fill;\n",
    "            border-radius:5px;\n",
    "            border-style: solid;\n",
    "            border-color: #FF9B50;\n",
    "            background-color:#000000;\n",
    "            overflow:hidden;\n",
    "            font-weight:400\"><b>What is the total purchase amount for customers in each location ?</b></div>"
   ]
  },
  {
   "cell_type": "code",
   "execution_count": 14,
   "id": "d1092075",
   "metadata": {
    "execution": {
     "iopub.execute_input": "2023-11-04T12:15:58.462825Z",
     "iopub.status.busy": "2023-11-04T12:15:58.462398Z",
     "iopub.status.idle": "2023-11-04T12:15:58.471840Z",
     "shell.execute_reply": "2023-11-04T12:15:58.470064Z"
    },
    "papermill": {
     "duration": 0.058131,
     "end_time": "2023-11-04T12:15:58.473501",
     "exception": false,
     "start_time": "2023-11-04T12:15:58.415370",
     "status": "completed"
    },
    "tags": []
   },
   "outputs": [
    {
     "data": {
      "text/plain": [
       "Location\n",
       "Alabama           5261\n",
       "Alaska            4867\n",
       "Arizona           4326\n",
       "Arkansas          4828\n",
       "California        5605\n",
       "Colorado          4222\n",
       "Connecticut       4226\n",
       "Delaware          4758\n",
       "Florida           3798\n",
       "Georgia           4645\n",
       "Hawaii            3752\n",
       "Idaho             5587\n",
       "Illinois          5617\n",
       "Indiana           4655\n",
       "Iowa              4201\n",
       "Kansas            3437\n",
       "Kentucky          4402\n",
       "Louisiana         4848\n",
       "Maine             4388\n",
       "Maryland          4795\n",
       "Massachusetts     4384\n",
       "Michigan          4533\n",
       "Minnesota         4977\n",
       "Mississippi       4883\n",
       "Missouri          4691\n",
       "Montana           5784\n",
       "Nebraska          5172\n",
       "Nevada            5514\n",
       "New Hampshire     4219\n",
       "New Jersey        3802\n",
       "New Mexico        5014\n",
       "New York          5257\n",
       "North Carolina    4742\n",
       "North Dakota      5220\n",
       "Ohio              4649\n",
       "Oklahoma          4376\n",
       "Oregon            4243\n",
       "Pennsylvania      4926\n",
       "Rhode Island      3871\n",
       "South Carolina    4439\n",
       "South Dakota      4236\n",
       "Tennessee         4772\n",
       "Texas             4712\n",
       "Utah              4443\n",
       "Vermont           4860\n",
       "Virginia          4842\n",
       "Washington        4623\n",
       "West Virginia     5174\n",
       "Wisconsin         4196\n",
       "Wyoming           4309\n",
       "Name: Purchase Amount (USD), dtype: int64"
      ]
     },
     "execution_count": 14,
     "metadata": {},
     "output_type": "execute_result"
    }
   ],
   "source": [
    "total_purchase_amount_per_location = data.groupby('Location')['Purchase Amount (USD)'].sum()\n",
    "total_purchase_amount_per_location "
   ]
  },
  {
   "cell_type": "markdown",
   "id": "e14f18ad",
   "metadata": {
    "papermill": {
     "duration": 0.048939,
     "end_time": "2023-11-04T12:15:58.567846",
     "exception": false,
     "start_time": "2023-11-04T12:15:58.518907",
     "status": "completed"
    },
    "tags": []
   },
   "source": [
    "<div style=\"padding:10px;\n",
    "            color:#E55604;\n",
    "            margin:10px;\n",
    "            font-size:130%;\n",
    "            display:fill;\n",
    "            border-radius:5px;\n",
    "            border-style: solid;\n",
    "            border-color: #FF9B50;\n",
    "            background-color:#000000;\n",
    "            overflow:hidden;\n",
    "            font-weight:400\"><b>What is the average purchase amount for customers who have a subscription and used Venmo as the payment method ?</b></div>"
   ]
  },
  {
   "cell_type": "code",
   "execution_count": 16,
   "id": "f6707e4d",
   "metadata": {
    "execution": {
     "iopub.execute_input": "2023-11-04T12:15:58.666973Z",
     "iopub.status.busy": "2023-11-04T12:15:58.666308Z",
     "iopub.status.idle": "2023-11-04T12:15:58.675358Z",
     "shell.execute_reply": "2023-11-04T12:15:58.673917Z"
    },
    "papermill": {
     "duration": 0.061668,
     "end_time": "2023-11-04T12:15:58.677162",
     "exception": false,
     "start_time": "2023-11-04T12:15:58.615494",
     "status": "completed"
    },
    "tags": []
   },
   "outputs": [
    {
     "name": "stdout",
     "output_type": "stream",
     "text": [
      "The average purchase amount of customers with a subscription and have Venmo as their payment method is: 57.51\n"
     ]
    }
   ],
   "source": [
    "filter_d = data[(data['Subscription Status'] == 'Yes') & (data['Payment Method'] == 'Venmo')]\n",
    "\n",
    "av_amnt_venmo_customers = filter_d['Purchase Amount (USD)'].mean()\n",
    "\n",
    "print(f'The average purchase amount of customers with a subscription and have Venmo as their payment method is: {round(av_amnt_venmo_customers, 2)}')"
   ]
  },
  {
   "cell_type": "markdown",
   "id": "90fe45f2",
   "metadata": {
    "papermill": {
     "duration": 0.044647,
     "end_time": "2023-11-04T12:15:58.767835",
     "exception": false,
     "start_time": "2023-11-04T12:15:58.723188",
     "status": "completed"
    },
    "tags": []
   },
   "source": [
    "<div style=\"padding:10px;\n",
    "            color:#E55604;\n",
    "            margin:10px;\n",
    "            font-size:130%;\n",
    "            display:fill;\n",
    "            border-radius:5px;\n",
    "            border-style: solid;\n",
    "            border-color: #FF9B50;\n",
    "            background-color:#000000;\n",
    "            overflow:hidden;\n",
    "            font-weight:400\"><b>What is the frequency distribution of the 'Frequency of Purchases' column ?</b></div>"
   ]
  },
  {
   "cell_type": "code",
   "execution_count": 22,
   "id": "a8c70ca7",
   "metadata": {
    "execution": {
     "iopub.execute_input": "2023-11-04T12:15:58.858840Z",
     "iopub.status.busy": "2023-11-04T12:15:58.858455Z",
     "iopub.status.idle": "2023-11-04T12:15:58.866303Z",
     "shell.execute_reply": "2023-11-04T12:15:58.864822Z"
    },
    "papermill": {
     "duration": 0.055771,
     "end_time": "2023-11-04T12:15:58.868180",
     "exception": false,
     "start_time": "2023-11-04T12:15:58.812409",
     "status": "completed"
    },
    "tags": []
   },
   "outputs": [
    {
     "name": "stdout",
     "output_type": "stream",
     "text": [
      "Frequency of Purchases\n",
      "Every 3 Months    584\n",
      "Annually          572\n",
      "Quarterly         563\n",
      "Monthly           553\n",
      "Bi-Weekly         547\n",
      "Fortnightly       542\n",
      "Weekly            539\n",
      "Name: count, dtype: int64\n"
     ]
    },
    {
     "data": {
      "image/png": "[encoded data removed]",
      "text/plain": [
       "<Figure size 640x480 with 1 Axes>"
      ]
     },
     "metadata": {},
     "output_type": "display_data"
    }
   ],
   "source": [
    "frequency_column = data['Frequency of Purchases'].value_counts()\n",
    "print(frequency_column)\n",
    "frequency_column.plot(kind='bar')\n",
    "plt.title('Purchase Frequency')\n",
    "plt.xlabel('Value')\n",
    "plt.ylabel('Frequency')\n",
    "plt.show()"
   ]
  },
  {
   "cell_type": "markdown",
   "id": "c3df78c7",
   "metadata": {
    "papermill": {
     "duration": 0.043939,
     "end_time": "2023-11-04T12:15:58.955809",
     "exception": false,
     "start_time": "2023-11-04T12:15:58.911870",
     "status": "completed"
    },
    "tags": []
   },
   "source": [
    "<div style=\"padding:10px;\n",
    "            color:#E55604;\n",
    "            margin:10px;\n",
    "            font-size:130%;\n",
    "            display:fill;\n",
    "            border-radius:5px;\n",
    "            border-style: solid;\n",
    "            border-color: #FF9B50;\n",
    "            background-color:#000000;\n",
    "            overflow:hidden;\n",
    "            font-weight:400\"><b>What is the average purchase amount for each color of items ?</b></div>"
   ]
  },
  {
   "cell_type": "code",
   "execution_count": 23,
   "id": "ea9f82e1",
   "metadata": {
    "execution": {
     "iopub.execute_input": "2023-11-04T12:15:59.052895Z",
     "iopub.status.busy": "2023-11-04T12:15:59.051691Z",
     "iopub.status.idle": "2023-11-04T12:15:59.064436Z",
     "shell.execute_reply": "2023-11-04T12:15:59.062616Z"
    },
    "papermill": {
     "duration": 0.0652,
     "end_time": "2023-11-04T12:15:59.067882",
     "exception": false,
     "start_time": "2023-11-04T12:15:59.002682",
     "status": "completed"
    },
    "tags": []
   },
   "outputs": [
    {
     "data": {
      "text/plain": [
       "Color\n",
       "Beige        60.414966\n",
       "Black        58.401198\n",
       "Blue         56.953947\n",
       "Brown        59.063830\n",
       "Charcoal     60.633987\n",
       "Cyan         61.891566\n",
       "Gold         61.007246\n",
       "Gray         62.490566\n",
       "Green        65.704142\n",
       "Indigo       56.251701\n",
       "Lavender     59.129252\n",
       "Magenta      57.131579\n",
       "Maroon       59.525316\n",
       "Olive        58.146893\n",
       "Orange       60.889610\n",
       "Peach        59.187919\n",
       "Pink         60.588235\n",
       "Purple       60.013245\n",
       "Red          59.317568\n",
       "Silver       56.832370\n",
       "Teal         60.808140\n",
       "Turquoise    55.613793\n",
       "Violet       61.716867\n",
       "White        62.640845\n",
       "Yellow       59.241379\n",
       "Name: Purchase Amount (USD), dtype: float64"
      ]
     },
     "execution_count": 23,
     "metadata": {},
     "output_type": "execute_result"
    }
   ],
   "source": [
    "av_amnt_color = data.groupby('Color')['Purchase Amount (USD)'].mean()\n",
    "av_amnt_color"
   ]
  },
  {
   "cell_type": "markdown",
   "id": "18113677",
   "metadata": {},
   "source": [
    "### Exercise 5: (6 marks)\n",
    "- a)\tWhat is the most common payment method for customers who purchased items in the Fall season?\n",
    "- b)\tHow many customers have made a purchase in each category?\n",
    "- c)\tWhat is the average age of customers who purchased accessories with a discount applied?\n",
    "- d)\tWhat is the total purchase amount for each size of clothing items (XL, L, M, S)?\n",
    "- e)\tWhat is the total purchase amount for customers who have made more than 40 previous purchases?\n",
    "- f)\tWhat is the most common location for customers who purchased socks with a discount applied?\n"
   ]
  },
  {
   "cell_type": "markdown",
   "id": "3ed20b10",
   "metadata": {
    "papermill": {
     "duration": 0.063072,
     "end_time": "2023-11-04T12:16:00.294813",
     "exception": false,
     "start_time": "2023-11-04T12:16:00.231741",
     "status": "completed"
    },
    "tags": []
   },
   "source": [
    "<div style=\"padding:10px;\n",
    "            color:#E55604;\n",
    "            margin:10px;\n",
    "            font-size:130%;\n",
    "            display:fill;\n",
    "            border-radius:5px;\n",
    "            border-style: solid;\n",
    "            border-color: #FF9B50;\n",
    "            background-color:#000000;\n",
    "            overflow:hidden;\n",
    "            font-weight:400\"><b>What is the most common payment method for customers who purchased items in the Fall season ?</b></div>"
   ]
  },
  {
   "cell_type": "code",
   "execution_count": 28,
   "id": "879c3d68",
   "metadata": {},
   "outputs": [
    {
     "data": {
      "text/plain": [
       "Payment Method\n",
       "Cash    179\n",
       "Name: count, dtype: int64"
      ]
     },
     "execution_count": 28,
     "metadata": {},
     "output_type": "execute_result"
    }
   ],
   "source": [
    "filter_season = data[(data['Season'] == 'Fall')]\n",
    "cm_pmnt_mtd = filter_season['Payment Method'].value_counts()\n",
    "cm_pmnt_mtd = cm_pmnt_mtd.nlargest(1)\n",
    "cm_pmnt_mtd"
   ]
  },
  {
   "cell_type": "markdown",
   "id": "fa56972a",
   "metadata": {
    "papermill": {
     "duration": 0.062311,
     "end_time": "2023-11-04T12:16:00.556861",
     "exception": false,
     "start_time": "2023-11-04T12:16:00.494550",
     "status": "completed"
    },
    "tags": []
   },
   "source": [
    "<div style=\"padding:10px;\n",
    "            color:#E55604;\n",
    "            margin:10px;\n",
    "            font-size:130%;\n",
    "            display:fill;\n",
    "            border-radius:5px;\n",
    "            border-style: solid;\n",
    "            border-color: #FF9B50;\n",
    "            background-color:#000000;\n",
    "            overflow:hidden;\n",
    "            font-weight:400\"><b>How many customers have made a purchase in each category ?</b></div>"
   ]
  },
  {
   "cell_type": "code",
   "execution_count": 32,
   "id": "e9f46f87",
   "metadata": {
    "execution": {
     "iopub.execute_input": "2023-11-04T12:16:00.682699Z",
     "iopub.status.busy": "2023-11-04T12:16:00.681996Z",
     "iopub.status.idle": "2023-11-04T12:16:00.688477Z",
     "shell.execute_reply": "2023-11-04T12:16:00.687503Z"
    },
    "papermill": {
     "duration": 0.071912,
     "end_time": "2023-11-04T12:16:00.689989",
     "exception": false,
     "start_time": "2023-11-04T12:16:00.618077",
     "status": "completed"
    },
    "tags": []
   },
   "outputs": [
    {
     "data": {
      "text/plain": [
       "Category\n",
       "Clothing       1737\n",
       "Accessories    1240\n",
       "Footwear        599\n",
       "Outerwear       324\n",
       "Name: count, dtype: int64"
      ]
     },
     "execution_count": 32,
     "metadata": {},
     "output_type": "execute_result"
    }
   ],
   "source": [
    "ctm_pcs_category = data['Category'].value_counts()\n",
    "ctm_pcs_category"
   ]
  },
  {
   "cell_type": "markdown",
   "id": "3f7bb7a6",
   "metadata": {
    "papermill": {
     "duration": 0.060128,
     "end_time": "2023-11-04T12:16:00.811045",
     "exception": false,
     "start_time": "2023-11-04T12:16:00.750917",
     "status": "completed"
    },
    "tags": []
   },
   "source": [
    "<div style=\"padding:10px;\n",
    "            color:#E55604;\n",
    "            margin:10px;\n",
    "            font-size:130%;\n",
    "            display:fill;\n",
    "            border-radius:5px;\n",
    "            border-style: solid;\n",
    "            border-color: #FF9B50;\n",
    "            background-color:#000000;\n",
    "            overflow:hidden;\n",
    "            font-weight:400\"><b>What is the average age of customers who purchased accessories with a discount applied ?</b></div>"
   ]
  },
  {
   "cell_type": "code",
   "execution_count": 34,
   "id": "ef07c15a",
   "metadata": {
    "execution": {
     "iopub.execute_input": "2023-11-04T12:16:00.936803Z",
     "iopub.status.busy": "2023-11-04T12:16:00.936069Z",
     "iopub.status.idle": "2023-11-04T12:16:00.943501Z",
     "shell.execute_reply": "2023-11-04T12:16:00.942257Z"
    },
    "papermill": {
     "duration": 0.072418,
     "end_time": "2023-11-04T12:16:00.945142",
     "exception": false,
     "start_time": "2023-11-04T12:16:00.872724",
     "status": "completed"
    },
    "tags": []
   },
   "outputs": [
    {
     "name": "stdout",
     "output_type": "stream",
     "text": [
      "The avergae age is: 44\n"
     ]
    }
   ],
   "source": [
    "filter_dsc = data[(data['Discount Applied'] == 'Yes')]\n",
    "av_ctm_age = filter_dsc['Age'].mean()\n",
    "print(f'The avergae age is: {math.trunc(av_ctm_age)}')"
   ]
  },
  {
   "cell_type": "markdown",
   "id": "c7280ee3",
   "metadata": {
    "papermill": {
     "duration": 0.061337,
     "end_time": "2023-11-04T12:16:01.068847",
     "exception": false,
     "start_time": "2023-11-04T12:16:01.007510",
     "status": "completed"
    },
    "tags": []
   },
   "source": [
    "<div style=\"padding:10px;\n",
    "            color:#E55604;\n",
    "            margin:10px;\n",
    "            font-size:130%;\n",
    "            display:fill;\n",
    "            border-radius:5px;\n",
    "            border-style: solid;\n",
    "            border-color: #FF9B50;\n",
    "            background-color:#000000;\n",
    "            overflow:hidden;\n",
    "            font-weight:400\"><b>What is the total purchase amount for each size of clothing items (XL, L, M, S) ?</b></div>"
   ]
  },
  {
   "cell_type": "code",
   "execution_count": 35,
   "id": "b6ce3e07",
   "metadata": {
    "execution": {
     "iopub.execute_input": "2023-11-04T12:16:01.196748Z",
     "iopub.status.busy": "2023-11-04T12:16:01.196017Z",
     "iopub.status.idle": "2023-11-04T12:16:01.205752Z",
     "shell.execute_reply": "2023-11-04T12:16:01.204540Z"
    },
    "papermill": {
     "duration": 0.075841,
     "end_time": "2023-11-04T12:16:01.207844",
     "exception": false,
     "start_time": "2023-11-04T12:16:01.132003",
     "status": "completed"
    },
    "tags": []
   },
   "outputs": [
    {
     "data": {
      "text/plain": [
       "Size\n",
       "L      61667\n",
       "M     105167\n",
       "S      40468\n",
       "XL     25779\n",
       "Name: Purchase Amount (USD), dtype: int64"
      ]
     },
     "execution_count": 35,
     "metadata": {},
     "output_type": "execute_result"
    }
   ],
   "source": [
    "total_purchase_size = data.groupby('Size')['Purchase Amount (USD)'].sum()\n",
    "total_purchase_size"
   ]
  },
  {
   "cell_type": "markdown",
   "id": "e3707a52",
   "metadata": {
    "papermill": {
     "duration": 0.060923,
     "end_time": "2023-11-04T12:16:01.331637",
     "exception": false,
     "start_time": "2023-11-04T12:16:01.270714",
     "status": "completed"
    },
    "tags": []
   },
   "source": [
    "<div style=\"padding:10px;\n",
    "            color:#E55604;\n",
    "            margin:10px;\n",
    "            font-size:130%;\n",
    "            display:fill;\n",
    "            border-radius:5px;\n",
    "            border-style: solid;\n",
    "            border-color: #FF9B50;\n",
    "            background-color:#000000;\n",
    "            overflow:hidden;\n",
    "            font-weight:400\"><b>What is the total purchase amount for customers who have made more than 40 previous purchases ?</b></div>"
   ]
  },
  {
   "cell_type": "code",
   "execution_count": 40,
   "id": "6981423e",
   "metadata": {
    "execution": {
     "iopub.execute_input": "2023-11-04T12:16:01.459137Z",
     "iopub.status.busy": "2023-11-04T12:16:01.458380Z",
     "iopub.status.idle": "2023-11-04T12:16:01.464447Z",
     "shell.execute_reply": "2023-11-04T12:16:01.463853Z"
    },
    "papermill": {
     "duration": 0.072477,
     "end_time": "2023-11-04T12:16:01.466251",
     "exception": false,
     "start_time": "2023-11-04T12:16:01.393774",
     "status": "completed"
    },
    "tags": []
   },
   "outputs": [
    {
     "name": "stdout",
     "output_type": "stream",
     "text": [
      "233081\n"
     ]
    }
   ],
   "source": [
    "total_purchase_prev = data[(data['Previous Purchases'] > 40)]\n",
    "total_purchase_prev = data['Purchase Amount (USD)'].sum()\n",
    "print(total_purchase_prev)"
   ]
  },
  {
   "cell_type": "markdown",
   "id": "deee216f",
   "metadata": {
    "papermill": {
     "duration": 0.062305,
     "end_time": "2023-11-04T12:16:01.590691",
     "exception": false,
     "start_time": "2023-11-04T12:16:01.528386",
     "status": "completed"
    },
    "tags": []
   },
   "source": [
    "<div style=\"padding:10px;\n",
    "            color:#E55604;\n",
    "            margin:10px;\n",
    "            font-size:130%;\n",
    "            display:fill;\n",
    "            border-radius:5px;\n",
    "            border-style: solid;\n",
    "            border-color: #FF9B50;\n",
    "            background-color:#000000;\n",
    "            overflow:hidden;\n",
    "            font-weight:400\"><b>What is the most common location for customers who purchased socks with a discount applied ?</b></div>"
   ]
  },
  {
   "cell_type": "code",
   "execution_count": 46,
   "id": "482668f7",
   "metadata": {
    "execution": {
     "iopub.execute_input": "2023-11-04T12:16:01.718121Z",
     "iopub.status.busy": "2023-11-04T12:16:01.717456Z",
     "iopub.status.idle": "2023-11-04T12:16:01.725245Z",
     "shell.execute_reply": "2023-11-04T12:16:01.723654Z"
    },
    "papermill": {
     "duration": 0.073503,
     "end_time": "2023-11-04T12:16:01.726918",
     "exception": false,
     "start_time": "2023-11-04T12:16:01.653415",
     "status": "completed"
    },
    "tags": []
   },
   "outputs": [
    {
     "data": {
      "text/plain": [
       "Location\n",
       "Georgia    3\n",
       "Name: count, dtype: int64"
      ]
     },
     "execution_count": 46,
     "metadata": {},
     "output_type": "execute_result"
    }
   ],
   "source": [
    "filter_item_dsc = data[(data['Item Purchased'] == 'Socks') & (data['Discount Applied'] == 'Yes')]\n",
    "\n",
    "location = filter_item_dsc['Location'].value_counts().nlargest(1)\n",
    "location"
   ]
  },
  {
   "cell_type": "markdown",
   "id": "7b6fb88c",
   "metadata": {},
   "source": [
    "### Exercise 6: (12 marks)\n",
    "- a)\tWhat is the average purchase amount for customers who have a subscription and used Venmo as the payment method, but did not use a promo code?\n",
    "- b)\tWhat is the most common item purchased by customers in Louisiana with a review rating of 4 or higher?\n",
    "- c)\tWhat is the total purchase amount for customers who made purchases in the Fall season and used a credit card as the payment method?\n",
    "- d)\tWhat is the most common category of items purchased by male customers in the Winter season with a review rating below 3?\n",
    "- e)\tHow many customers have a subscription status of 'Yes' and used a promo code for their purchase?\n",
    "- f)\tWhat is the correlation between a customer's age and their total previous purchases? Calculate the Pearson correlation coefficient.\n"
   ]
  },
  {
   "cell_type": "markdown",
   "id": "3696f056",
   "metadata": {
    "papermill": {
     "duration": 0.061445,
     "end_time": "2023-11-04T12:16:01.850956",
     "exception": false,
     "start_time": "2023-11-04T12:16:01.789511",
     "status": "completed"
    },
    "tags": []
   },
   "source": [
    "<div style=\"padding:10px;\n",
    "            color:#E55604;\n",
    "            margin:10px;\n",
    "            font-size:130%;\n",
    "            display:fill;\n",
    "            border-radius:5px;\n",
    "            border-style: solid;\n",
    "            border-color: #FF9B50;\n",
    "            background-color:#000000;\n",
    "            overflow:hidden;\n",
    "            font-weight:400\"><b>What is the average purchase amount for customers who have a subscription and used Venmo as the payment method, but did not use a promo code ?</b></div>"
   ]
  },
  {
   "cell_type": "code",
   "execution_count": 7,
   "id": "55b6ca64",
   "metadata": {
    "execution": {
     "iopub.execute_input": "2023-11-04T12:16:01.978375Z",
     "iopub.status.busy": "2023-11-04T12:16:01.977638Z",
     "iopub.status.idle": "2023-11-04T12:16:01.985394Z",
     "shell.execute_reply": "2023-11-04T12:16:01.984278Z"
    },
    "papermill": {
     "duration": 0.073537,
     "end_time": "2023-11-04T12:16:01.987127",
     "exception": false,
     "start_time": "2023-11-04T12:16:01.913590",
     "status": "completed"
    },
    "tags": []
   },
   "outputs": [
    {
     "name": "stdout",
     "output_type": "stream",
     "text": [
      "Average amount: nan\n"
     ]
    }
   ],
   "source": [
    "filter_ss_pc_pm = data[(data['Subscription Status'] == 'Yes') & (data['Payment Method'] == 'Venmo') & (data['Promo Code Used'] == 'No')]\n",
    "av_amnt_ss = filter_ss_pc_pm['Purchase Amount (USD)'].mean()\n",
    "print(f'Average amount: {av_amnt_ss}')\n",
    "\n"
   ]
  },
  {
   "cell_type": "markdown",
   "id": "517140b6",
   "metadata": {
    "papermill": {
     "duration": 0.065894,
     "end_time": "2023-11-04T12:16:02.115585",
     "exception": false,
     "start_time": "2023-11-04T12:16:02.049691",
     "status": "completed"
    },
    "tags": []
   },
   "source": [
    "<div style=\"padding:10px;\n",
    "            color:#E55604;\n",
    "            margin:10px;\n",
    "            font-size:130%;\n",
    "            display:fill;\n",
    "            border-radius:5px;\n",
    "            border-style: solid;\n",
    "            border-color: #FF9B50;\n",
    "            background-color:#000000;\n",
    "            overflow:hidden;\n",
    "            font-weight:400\"><b>What is the most common item purchased by customers in Louisiana with a review rating of 4 or higher ?</b></div>"
   ]
  },
  {
   "cell_type": "code",
   "execution_count": 12,
   "id": "d9ff742e",
   "metadata": {
    "execution": {
     "iopub.execute_input": "2023-11-04T12:16:02.242414Z",
     "iopub.status.busy": "2023-11-04T12:16:02.241712Z",
     "iopub.status.idle": "2023-11-04T12:16:02.250714Z",
     "shell.execute_reply": "2023-11-04T12:16:02.249278Z"
    },
    "papermill": {
     "duration": 0.074502,
     "end_time": "2023-11-04T12:16:02.253341",
     "exception": false,
     "start_time": "2023-11-04T12:16:02.178839",
     "status": "completed"
    },
    "tags": []
   },
   "outputs": [
    {
     "name": "stdout",
     "output_type": "stream",
     "text": [
      "Item Purchased\n",
      "Handbag    3\n",
      "Name: count, dtype: int64\n"
     ]
    }
   ],
   "source": [
    "filter_it_L = data[(data['Location'] == 'Louisiana') & (data['Review Rating'] > 4)]\n",
    "\n",
    "most_common_item = filter_it_L['Item Purchased'].value_counts().nlargest(1)\n",
    "print(most_common_item)"
   ]
  },
  {
   "cell_type": "markdown",
   "id": "2a4455ce",
   "metadata": {
    "papermill": {
     "duration": 0.062641,
     "end_time": "2023-11-04T12:16:02.378894",
     "exception": false,
     "start_time": "2023-11-04T12:16:02.316253",
     "status": "completed"
    },
    "tags": []
   },
   "source": [
    "<div style=\"padding:10px;\n",
    "            color:#E55604;\n",
    "            margin:10px;\n",
    "            font-size:130%;\n",
    "            display:fill;\n",
    "            border-radius:5px;\n",
    "            border-style: solid;\n",
    "            border-color: #FF9B50;\n",
    "            background-color:#000000;\n",
    "            overflow:hidden;\n",
    "            font-weight:400\"><b>What is the total purchase amount for customers who made purchases in the Fall season and used a credit card as the payment method ?</b></div>"
   ]
  },
  {
   "cell_type": "code",
   "execution_count": 14,
   "id": "b259d0c4",
   "metadata": {
    "execution": {
     "iopub.execute_input": "2023-11-04T12:16:02.507479Z",
     "iopub.status.busy": "2023-11-04T12:16:02.506132Z",
     "iopub.status.idle": "2023-11-04T12:16:02.514917Z",
     "shell.execute_reply": "2023-11-04T12:16:02.513694Z"
    },
    "papermill": {
     "duration": 0.075269,
     "end_time": "2023-11-04T12:16:02.516901",
     "exception": false,
     "start_time": "2023-11-04T12:16:02.441632",
     "status": "completed"
    },
    "tags": []
   },
   "outputs": [
    {
     "name": "stdout",
     "output_type": "stream",
     "text": [
      "Total Amount (USD): 9905\n"
     ]
    }
   ],
   "source": [
    "filter_ss_cc = data[(data['Season'] == 'Fall') & (data['Payment Method'] == 'Credit Card')]\n",
    "\n",
    "total_amnt_ss_cc = filter_ss_cc['Purchase Amount (USD)'].sum()\n",
    "print(f'Total Amount (USD): {total_amnt_ss_cc}')"
   ]
  },
  {
   "cell_type": "markdown",
   "id": "53b30321",
   "metadata": {
    "papermill": {
     "duration": 0.062714,
     "end_time": "2023-11-04T12:16:02.641944",
     "exception": false,
     "start_time": "2023-11-04T12:16:02.579230",
     "status": "completed"
    },
    "tags": []
   },
   "source": [
    "<div style=\"padding:10px;\n",
    "            color:#E55604;\n",
    "            margin:10px;\n",
    "            font-size:130%;\n",
    "            display:fill;\n",
    "            border-radius:5px;\n",
    "            border-style: solid;\n",
    "            border-color: #FF9B50;\n",
    "            background-color:#000000;\n",
    "            overflow:hidden;\n",
    "            font-weight:400\"><b>What is the most common category of items purchased by male customers in the Winter season with a review rating below 3 ?</b></div>"
   ]
  },
  {
   "cell_type": "code",
   "execution_count": 24,
   "id": "652ad114",
   "metadata": {
    "execution": {
     "iopub.execute_input": "2023-11-04T12:16:02.773580Z",
     "iopub.status.busy": "2023-11-04T12:16:02.771662Z",
     "iopub.status.idle": "2023-11-04T12:16:02.782562Z",
     "shell.execute_reply": "2023-11-04T12:16:02.781099Z"
    },
    "papermill": {
     "duration": 0.078293,
     "end_time": "2023-11-04T12:16:02.784328",
     "exception": false,
     "start_time": "2023-11-04T12:16:02.706035",
     "status": "completed"
    },
    "tags": []
   },
   "outputs": [
    {
     "data": {
      "text/plain": [
       "Category\n",
       "Clothing    47\n",
       "Name: count, dtype: int64"
      ]
     },
     "execution_count": 24,
     "metadata": {},
     "output_type": "execute_result"
    }
   ],
   "source": [
    "filter_ss_male = data[(data['Season'] == 'Winter') & (data['Gender'] == 'Male') & (data['Review Rating'] < 3)]\n",
    "\n",
    "common_cat_male = filter_ss_male['Category'].value_counts().nlargest(1)\n",
    "common_cat_male"
   ]
  },
  {
   "cell_type": "markdown",
   "id": "60490840",
   "metadata": {
    "papermill": {
     "duration": 0.065248,
     "end_time": "2023-11-04T12:16:02.913027",
     "exception": false,
     "start_time": "2023-11-04T12:16:02.847779",
     "status": "completed"
    },
    "tags": []
   },
   "source": [
    "<div style=\"padding:10px;\n",
    "            color:#E55604;\n",
    "            margin:10px;\n",
    "            font-size:130%;\n",
    "            display:fill;\n",
    "            border-radius:5px;\n",
    "            border-style: solid;\n",
    "            border-color: #FF9B50;\n",
    "            background-color:#000000;\n",
    "            overflow:hidden;\n",
    "            font-weight:400\"><b>How many customers have a subscription status of 'Yes' and used a promo code for their purchase ?</b></div>"
   ]
  },
  {
   "cell_type": "code",
   "execution_count": 35,
   "id": "1d1dd6a4",
   "metadata": {
    "execution": {
     "iopub.execute_input": "2023-11-04T12:16:03.042451Z",
     "iopub.status.busy": "2023-11-04T12:16:03.042097Z",
     "iopub.status.idle": "2023-11-04T12:16:03.050182Z",
     "shell.execute_reply": "2023-11-04T12:16:03.048911Z"
    },
    "papermill": {
     "duration": 0.076444,
     "end_time": "2023-11-04T12:16:03.053286",
     "exception": false,
     "start_time": "2023-11-04T12:16:02.976842",
     "status": "completed"
    },
    "tags": []
   },
   "outputs": [
    {
     "name": "stdout",
     "output_type": "stream",
     "text": [
      "1053 customers\n"
     ]
    }
   ],
   "source": [
    "customers_ss_pc = 0\n",
    "for index, row in data.iterrows():\n",
    "    if (row['Subscription Status'] == 'Yes') & (row['Promo Code Used'] == 'Yes'):\n",
    "        customers_ss_pc += 1\n",
    "\n",
    "print(f'{customers_ss_pc} customers')"
   ]
  },
  {
   "cell_type": "markdown",
   "id": "542f8459",
   "metadata": {
    "papermill": {
     "duration": 0.062651,
     "end_time": "2023-11-04T12:16:03.181891",
     "exception": false,
     "start_time": "2023-11-04T12:16:03.119240",
     "status": "completed"
    },
    "tags": []
   },
   "source": [
    "<div style=\"padding:10px;\n",
    "            color:#E55604;\n",
    "            margin:10px;\n",
    "            font-size:130%;\n",
    "            display:fill;\n",
    "            border-radius:5px;\n",
    "            border-style: solid;\n",
    "            border-color: #FF9B50;\n",
    "            background-color:#000000;\n",
    "            overflow:hidden;\n",
    "            font-weight:400\"><b>What is the correlation between a customer's age and their total previous purchases? Calculate the Pearson correlation coefficient</b></div>"
   ]
  },
  {
   "cell_type": "code",
   "execution_count": 8,
   "id": "59abb090",
   "metadata": {
    "execution": {
     "iopub.execute_input": "2023-11-04T12:16:03.311229Z",
     "iopub.status.busy": "2023-11-04T12:16:03.310593Z",
     "iopub.status.idle": "2023-11-04T12:16:03.316197Z",
     "shell.execute_reply": "2023-11-04T12:16:03.315421Z"
    },
    "papermill": {
     "duration": 0.072979,
     "end_time": "2023-11-04T12:16:03.318328",
     "exception": false,
     "start_time": "2023-11-04T12:16:03.245349",
     "status": "completed"
    },
    "tags": []
   },
   "outputs": [
    {
     "name": "stdout",
     "output_type": "stream",
     "text": [
      " The Pearson correlation coefficient is: 0.04044453114289461\n"
     ]
    }
   ],
   "source": [
    "corr_df = data['Age'].corr(data['Previous Purchases'])\n",
    "print(f' The Pearson correlation coefficient is: {corr_df}')"
   ]
  },
  {
   "cell_type": "markdown",
   "id": "a7b2fd9e",
   "metadata": {},
   "source": [
    "### Part B: Data Visualization (12 marks)\n",
    "\n",
    "- Plot a Histogram of Age Distribution\n",
    "- Box Plot of Purchase Amount by Gender\n",
    "- Bar Plot of Payment Method by Season\n"
   ]
  },
  {
   "cell_type": "markdown",
   "id": "4d8ff8bd",
   "metadata": {
    "papermill": {
     "duration": 0.066929,
     "end_time": "2023-11-04T12:16:03.452957",
     "exception": false,
     "start_time": "2023-11-04T12:16:03.386028",
     "status": "completed"
    },
    "tags": []
   },
   "source": [
    "### Histogram of Age Distribution"
   ]
  },
  {
   "cell_type": "code",
   "execution_count": 45,
   "id": "6c7b0e59",
   "metadata": {
    "execution": {
     "iopub.execute_input": "2023-11-04T12:16:03.586353Z",
     "iopub.status.busy": "2023-11-04T12:16:03.585422Z",
     "iopub.status.idle": "2023-11-04T12:16:03.824007Z",
     "shell.execute_reply": "2023-11-04T12:16:03.822238Z"
    },
    "papermill": {
     "duration": 0.308055,
     "end_time": "2023-11-04T12:16:03.826951",
     "exception": false,
     "start_time": "2023-11-04T12:16:03.518896",
     "status": "completed"
    },
    "tags": []
   },
   "outputs": [
    {
     "data": {
      "image/png": "[encoded data removed]",
      "text/plain": [
       "<Figure size 2000x600 with 1 Axes>"
      ]
     },
     "metadata": {},
     "output_type": "display_data"
    }
   ],
   "source": [
    "plt.figure(figsize = (20, 6))\n",
    "plt.hist(data['Age'], bins = 20, color = 'purple', edgecolor='blue')\n",
    "plt.title('')\n",
    "plt.xlabel('')\n",
    "plt.ylabel('Frequency')\n",
    "plt.show()"
   ]
  },
  {
   "cell_type": "markdown",
   "id": "4ba8fdef",
   "metadata": {
    "papermill": {
     "duration": 0.063417,
     "end_time": "2023-11-04T12:16:03.955972",
     "exception": false,
     "start_time": "2023-11-04T12:16:03.892555",
     "status": "completed"
    },
    "tags": []
   },
   "source": [
    "### Box Plot of Purchase Amount by Gender"
   ]
  },
  {
   "cell_type": "code",
   "execution_count": 49,
   "id": "d1178d74",
   "metadata": {
    "execution": {
     "iopub.execute_input": "2023-11-04T12:16:04.088567Z",
     "iopub.status.busy": "2023-11-04T12:16:04.087936Z",
     "iopub.status.idle": "2023-11-04T12:16:04.326385Z",
     "shell.execute_reply": "2023-11-04T12:16:04.325478Z"
    },
    "papermill": {
     "duration": 0.306635,
     "end_time": "2023-11-04T12:16:04.328166",
     "exception": false,
     "start_time": "2023-11-04T12:16:04.021531",
     "status": "completed"
    },
    "tags": []
   },
   "outputs": [
    {
     "data": {
      "image/png": "[encoded data removed]",
      "text/plain": [
       "<Figure size 2000x600 with 1 Axes>"
      ]
     },
     "metadata": {},
     "output_type": "display_data"
    }
   ],
   "source": [
    "plt.figure(figsize = (20, 6))\n",
    "sns.boxplot(x='Gender', y='Purchase Amount (USD)', data=data)\n",
    "plt.title('Purchase Amount by Gender')\n",
    "plt.xlabel('')\n",
    "plt.ylabel('')\n",
    "plt.show()"
   ]
  },
  {
   "cell_type": "markdown",
   "id": "44f184e9",
   "metadata": {},
   "source": []
  },
  {
   "cell_type": "markdown",
   "id": "a525f7c6",
   "metadata": {
    "papermill": {
     "duration": 0.065252,
     "end_time": "2023-11-04T12:16:06.097732",
     "exception": false,
     "start_time": "2023-11-04T12:16:06.032480",
     "status": "completed"
    },
    "tags": []
   },
   "source": [
    "### Bar Plot of Payment Method by Season"
   ]
  },
  {
   "cell_type": "code",
   "execution_count": 51,
   "id": "68956d0f",
   "metadata": {},
   "outputs": [
    {
     "data": {
      "image/png": "[encoded data removed]",
      "text/plain": [
       "<Figure size 2000x600 with 1 Axes>"
      ]
     },
     "metadata": {},
     "output_type": "display_data"
    }
   ],
   "source": [
    "plt.figure(figsize=(20, 6))\n",
    "sns.barplot(x='Season', y='Purchase Amount (USD)', hue='Payment Method', data=data)\n",
    "plt.title('Purchase Amount by Season and Payment Method')\n",
    "plt.xlabel('')\n",
    "plt.ylabel('')\n",
    "plt.xticks(rotation = 0)\n",
    "plt.show()"
   ]
  },
  {
   "cell_type": "code",
   "execution_count": null,
   "id": "e542e8ca",
   "metadata": {},
   "outputs": [],
   "source": []
  }
 ],
 "metadata": {
  "kernelspec": {
   "display_name": "Python 3",
   "language": "python",
   "name": "python3"
  },
  "language_info": {
   "codemirror_mode": {
    "name": "ipython",
    "version": 3
   },
   "file_extension": ".py",
   "mimetype": "text/x-python",
   "name": "python",
   "nbconvert_exporter": "python",
   "pygments_lexer": "ipython3",
   "version": "3.12.0"
  },
  "papermill": {
   "default_parameters": {},
   "duration": 30.929857,
   "end_time": "2023-11-04T12:16:10.857804",
   "environment_variables": {},
   "exception": null,
   "input_path": "__notebook__.ipynb",
   "output_path": "__notebook__.ipynb",
   "parameters": {},
   "start_time": "2023-11-04T12:15:39.927947",
   "version": "2.4.0"
  }
 },
 "nbformat": 4,
 "nbformat_minor": 5
}
